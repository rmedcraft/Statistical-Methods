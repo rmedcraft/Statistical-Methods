{
 "cells": [
  {
   "attachments": {},
   "cell_type": "markdown",
   "metadata": {},
   "source": [
    "## Quiz 2\n",
    "- You must show your work (Python code) in the code cells.\n",
    "- Answer the questions in the Markdown cells.\n",
    "- You must submit this file to the Quiz2 Drop Box on D2L before 9:50am.\n"
   ]
  },
  {
   "attachments": {},
   "cell_type": "markdown",
   "metadata": {},
   "source": [
    "#### Question: Answer the following questions about the `txhousing` data set, Information about the housing market in Texas provided by the TAMU real estate center.  The data set is available at https://raw.githubusercontent.com/vincentarelbundock/Rdatasets/master/csv/ggplot2/txhousing.csv\n",
    "\n",
    "(1) The following Python code remeoves the missing values of the data.  What are the dimensions of complete data (withoud missing values)?\n",
    "\n",
    "**Ans:**"
   ]
  },
  {
   "cell_type": "code",
   "execution_count": 30,
   "metadata": {},
   "outputs": [
    {
     "name": "stdout",
     "output_type": "stream",
     "text": [
      "There are 10 columns\n"
     ]
    },
    {
     "data": {
      "text/html": [
       "<div>\n",
       "<style scoped>\n",
       "    .dataframe tbody tr th:only-of-type {\n",
       "        vertical-align: middle;\n",
       "    }\n",
       "\n",
       "    .dataframe tbody tr th {\n",
       "        vertical-align: top;\n",
       "    }\n",
       "\n",
       "    .dataframe thead th {\n",
       "        text-align: right;\n",
       "    }\n",
       "</style>\n",
       "<table border=\"1\" class=\"dataframe\">\n",
       "  <thead>\n",
       "    <tr style=\"text-align: right;\">\n",
       "      <th></th>\n",
       "      <th>rownames</th>\n",
       "      <th>city</th>\n",
       "      <th>year</th>\n",
       "      <th>month</th>\n",
       "      <th>sales</th>\n",
       "      <th>volume</th>\n",
       "      <th>median</th>\n",
       "      <th>listings</th>\n",
       "      <th>inventory</th>\n",
       "      <th>date</th>\n",
       "    </tr>\n",
       "  </thead>\n",
       "  <tbody>\n",
       "    <tr>\n",
       "      <th>0</th>\n",
       "      <td>1</td>\n",
       "      <td>Abilene</td>\n",
       "      <td>2000</td>\n",
       "      <td>1</td>\n",
       "      <td>72.0</td>\n",
       "      <td>5380000.0</td>\n",
       "      <td>71400.0</td>\n",
       "      <td>701.0</td>\n",
       "      <td>6.3</td>\n",
       "      <td>2000.000000</td>\n",
       "    </tr>\n",
       "    <tr>\n",
       "      <th>1</th>\n",
       "      <td>2</td>\n",
       "      <td>Abilene</td>\n",
       "      <td>2000</td>\n",
       "      <td>2</td>\n",
       "      <td>98.0</td>\n",
       "      <td>6505000.0</td>\n",
       "      <td>58700.0</td>\n",
       "      <td>746.0</td>\n",
       "      <td>6.6</td>\n",
       "      <td>2000.083333</td>\n",
       "    </tr>\n",
       "    <tr>\n",
       "      <th>2</th>\n",
       "      <td>3</td>\n",
       "      <td>Abilene</td>\n",
       "      <td>2000</td>\n",
       "      <td>3</td>\n",
       "      <td>130.0</td>\n",
       "      <td>9285000.0</td>\n",
       "      <td>58100.0</td>\n",
       "      <td>784.0</td>\n",
       "      <td>6.8</td>\n",
       "      <td>2000.166667</td>\n",
       "    </tr>\n",
       "    <tr>\n",
       "      <th>3</th>\n",
       "      <td>4</td>\n",
       "      <td>Abilene</td>\n",
       "      <td>2000</td>\n",
       "      <td>4</td>\n",
       "      <td>98.0</td>\n",
       "      <td>9730000.0</td>\n",
       "      <td>68600.0</td>\n",
       "      <td>785.0</td>\n",
       "      <td>6.9</td>\n",
       "      <td>2000.250000</td>\n",
       "    </tr>\n",
       "    <tr>\n",
       "      <th>4</th>\n",
       "      <td>5</td>\n",
       "      <td>Abilene</td>\n",
       "      <td>2000</td>\n",
       "      <td>5</td>\n",
       "      <td>141.0</td>\n",
       "      <td>10590000.0</td>\n",
       "      <td>67300.0</td>\n",
       "      <td>794.0</td>\n",
       "      <td>6.8</td>\n",
       "      <td>2000.333333</td>\n",
       "    </tr>\n",
       "  </tbody>\n",
       "</table>\n",
       "</div>"
      ],
      "text/plain": [
       "   rownames     city  year  month  sales      volume   median  listings  \\\n",
       "0         1  Abilene  2000      1   72.0   5380000.0  71400.0     701.0   \n",
       "1         2  Abilene  2000      2   98.0   6505000.0  58700.0     746.0   \n",
       "2         3  Abilene  2000      3  130.0   9285000.0  58100.0     784.0   \n",
       "3         4  Abilene  2000      4   98.0   9730000.0  68600.0     785.0   \n",
       "4         5  Abilene  2000      5  141.0  10590000.0  67300.0     794.0   \n",
       "\n",
       "   inventory         date  \n",
       "0        6.3  2000.000000  \n",
       "1        6.6  2000.083333  \n",
       "2        6.8  2000.166667  \n",
       "3        6.9  2000.250000  \n",
       "4        6.8  2000.333333  "
      ]
     },
     "execution_count": 30,
     "metadata": {},
     "output_type": "execute_result"
    }
   ],
   "source": [
    "#code here:\n",
    "import pandas as pd\n",
    "\n",
    "txhousing = pd.read_csv('https://raw.githubusercontent.com/vincentarelbundock/Rdatasets/master/csv/ggplot2/txhousing.csv')\n",
    "print(\"There are\", len(txhousing.columns) , \"columns\")\n",
    "txhousing.dropna(inplace=True)\n",
    "txhousing.head()\n"
   ]
  },
  {
   "attachments": {},
   "cell_type": "markdown",
   "metadata": {},
   "source": [
    "(2) What is the range of the variable `sales`? What is the interquartile range of the  variable `sales`?\n",
    "\n",
    "**Ans:**"
   ]
  },
  {
   "cell_type": "code",
   "execution_count": 31,
   "metadata": {},
   "outputs": [
    {
     "name": "stdout",
     "output_type": "stream",
     "text": [
      "Range: 8939.0\n",
      "IQR: 432.0\n"
     ]
    }
   ],
   "source": [
    "# code here\n",
    "range = txhousing[\"sales\"].max() - txhousing[\"sales\"].min()\n",
    "print(\"Range:\", range)\n",
    "Q1 = txhousing[\"sales\"].quantile(0.25)\n",
    "Q3 = txhousing[\"sales\"].quantile(0.75)\n",
    "iqr = Q3 - Q1\n",
    "print(\"IQR:\", iqr)\n"
   ]
  },
  {
   "attachments": {},
   "cell_type": "markdown",
   "metadata": {},
   "source": [
    "(3) Construct a One-way frequency table of `sales` by `year`."
   ]
  },
  {
   "cell_type": "code",
   "execution_count": 45,
   "metadata": {},
   "outputs": [
    {
     "name": "stdout",
     "output_type": "stream",
     "text": [
      "year\n",
      "2000    439\n",
      "2001    405\n",
      "2002    370\n",
      "2003    384\n",
      "2004    392\n",
      "2005    362\n",
      "2006    357\n",
      "2007    406\n",
      "2008    467\n",
      "2009    511\n",
      "2010    523\n",
      "2011    548\n",
      "2012    548\n",
      "2013    549\n",
      "2014    551\n",
      "2015    314\n",
      "Name: sales, dtype: int64\n"
     ]
    }
   ],
   "source": [
    "#code here\n",
    "sales_by_year = txhousing.groupby('year')['sales'].count()\n",
    "print(sales_by_year)"
   ]
  },
  {
   "attachments": {},
   "cell_type": "markdown",
   "metadata": {},
   "source": [
    "(4) Obtain a sub data set with `year==2015` and save the data as `txhousing_2015`."
   ]
  },
  {
   "cell_type": "code",
   "execution_count": 33,
   "metadata": {},
   "outputs": [],
   "source": [
    "# code here\n",
    "txhousing_2015 = txhousing[txhousing[\"year\"] == 2015]"
   ]
  },
  {
   "attachments": {},
   "cell_type": "markdown",
   "metadata": {},
   "source": [
    "(5) Obtain the mean,  median and standard deviation of the variable `sales` for the  data in year 2015. "
   ]
  },
  {
   "cell_type": "code",
   "execution_count": 34,
   "metadata": {},
   "outputs": [
    {
     "name": "stdout",
     "output_type": "stream",
     "text": [
      "Mean: 662.1050955414013\n",
      "Median: 195.5\n",
      "Std: 1348.1229259323616\n"
     ]
    }
   ],
   "source": [
    "# code here\n",
    "print(\"Mean:\", txhousing_2015[\"sales\"].mean())\n",
    "print(\"Median:\", txhousing_2015[\"sales\"].median())\n",
    "print(\"Std:\", txhousing_2015[\"sales\"].std())"
   ]
  },
  {
   "attachments": {},
   "cell_type": "markdown",
   "metadata": {},
   "source": [
    "(6) Plot the histogram and density of `sales` of `txhousing_2015` in the same graph. How is the distribution?\n",
    "\n",
    "**Ans:**"
   ]
  },
  {
   "cell_type": "code",
   "execution_count": null,
   "metadata": {},
   "outputs": [
    {
     "data": {
      "image/png": "[encoded data removed]",
      "text/plain": [
       "<Figure size 640x480 with 1 Axes>"
      ]
     },
     "metadata": {},
     "output_type": "display_data"
    }
   ],
   "source": [
    "# code here\n",
    "import matplotlib.pyplot as plt\n",
    "import seaborn as sns\n",
    "sns.histplot(txhousing_2015['sales'], kde=True, bins=30, color='blue', edgecolor='black')\n",
    "\n",
    "plt.xlabel('Sales')\n",
    "plt.ylabel('Density')\n",
    "plt.title('Histogram and Density of Sales in 2015')\n",
    "\n",
    "plt.show()\n",
    "\n",
    "# there is heavy bias toward lower values"
   ]
  },
  {
   "attachments": {},
   "cell_type": "markdown",
   "metadata": {},
   "source": [
    "(7) Scatter plot of  `sales` and `median` in the data `txhousing_2015`. What is the relationship between the two variables?\n",
    "\n",
    "**Ans:**"
   ]
  },
  {
   "cell_type": "code",
   "execution_count": 39,
   "metadata": {},
   "outputs": [
    {
     "data": {
      "image/png": "[encoded data removed]",
      "text/plain": [
       "<Figure size 640x480 with 1 Axes>"
      ]
     },
     "metadata": {},
     "output_type": "display_data"
    }
   ],
   "source": [
    "#code here\n",
    "sns.scatterplot(data=txhousing_2015, x='sales', y='median', color='blue', alpha=0.6)\n",
    "\n",
    "plt.xlabel('Sales')\n",
    "plt.ylabel('Median Price')\n",
    "plt.title('Scatter Plot of Sales vs. Median Price (2015)')\n",
    "plt.show()\n",
    "# as sales increase, the median price increases. \n"
   ]
  },
  {
   "cell_type": "code",
   "execution_count": null,
   "metadata": {},
   "outputs": [],
   "source": [
    "\n"
   ]
  }
 ],
 "metadata": {
  "kernelspec": {
   "display_name": "Python 3",
   "language": "python",
   "name": "python3"
  },
  "language_info": {
   "codemirror_mode": {
    "name": "ipython",
    "version": 3
   },
   "file_extension": ".py",
   "mimetype": "text/x-python",
   "name": "python",
   "nbconvert_exporter": "python",
   "pygments_lexer": "ipython3",
   "version": "3.13.2"
  },
  "orig_nbformat": 4,
  "vscode": {
   "interpreter": {
    "hash": "139f39c35911530f58a71008b0639ee4976ca5534c75a5f8e1d0d362af752765"
   }
  }
 },
 "nbformat": 4,
 "nbformat_minor": 2
}
