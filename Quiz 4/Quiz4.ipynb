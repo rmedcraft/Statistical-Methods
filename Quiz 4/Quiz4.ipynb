{
 "cells": [
  {
   "attachments": {},
   "cell_type": "markdown",
   "metadata": {},
   "source": [
    "## Quiz 4\n",
    "- You must show your work (Python code) in the code cells.\n",
    "- Answer the questions in the Markdown cells.\n",
    "- You must submit this file to the Quiz4 Drop Box on D2L before 11:00am.\n"
   ]
  },
  {
   "attachments": {},
   "cell_type": "markdown",
   "metadata": {},
   "source": [
    "#### Question: Multiple linear regression models and model selections\n",
    "Consider the the data set `fat` and fit multiple linear regression models by regarding `bodyfat`(Percent body fat using Brozek’s equation) as the response variable."
   ]
  },
  {
   "cell_type": "code",
   "execution_count": 1,
   "metadata": {},
   "outputs": [
    {
     "name": "stdout",
     "output_type": "stream",
     "text": [
      "Index(['case', 'bodyfat', 'bodyfatsiri', 'density', 'age', 'weight', 'height',\n",
      "       'BMI', 'ffweight', 'neck', 'chest', 'abdomen', 'hip', 'thigh', 'knee',\n",
      "       'ankle', 'bicep', 'forearm', 'wrist'],\n",
      "      dtype='object')\n",
      "   bodyfat  bodyfatsiri  density  age  weight  height   BMI  ffweight  neck  \\\n",
      "0     12.6         12.3   1.0708   23  154.25   67.75  23.7     134.9  36.2   \n",
      "1      6.9          6.1   1.0853   22  173.25   72.25  23.4     161.3  38.5   \n",
      "2     24.6         25.3   1.0414   22  154.00   66.25  24.7     116.0  34.0   \n",
      "3     10.9         10.4   1.0751   26  184.75   72.25  24.9     164.7  37.4   \n",
      "4     27.8         28.7   1.0340   24  184.25   71.25  25.6     133.1  34.4   \n",
      "\n",
      "   chest  abdomen    hip  thigh  knee  ankle  bicep  forearm  wrist  \n",
      "0   93.1     85.2   94.5   59.0  37.3   21.9   32.0     27.4   17.1  \n",
      "1   93.6     83.0   98.7   58.7  37.3   23.4   30.5     28.9   18.2  \n",
      "2   95.8     87.9   99.2   59.6  38.9   24.0   28.8     25.2   16.6  \n",
      "3  101.8     86.4  101.2   60.1  37.3   22.8   32.4     29.4   18.2  \n",
      "4   97.3    100.0  101.9   63.2  42.2   24.0   32.2     27.7   17.7  \n"
     ]
    }
   ],
   "source": [
    "import pandas as pd\n",
    "fat=pd.read_csv('fat.csv')\n",
    "fat.columns = fat.columns.str.replace('.', '', regex=False)\n",
    "print(fat.columns)\n",
    "fat.drop([41, 181], inplace=True)#remove row 42 and 182 which have errors\n",
    "fat.drop(columns=['case'],inplace=True)\n",
    "print(fat.head())"
   ]
  },
  {
   "attachments": {},
   "cell_type": "markdown",
   "metadata": {},
   "source": [
    "(1) The following code split the data set into a training set and a test set."
   ]
  },
  {
   "cell_type": "code",
   "execution_count": 2,
   "metadata": {},
   "outputs": [],
   "source": [
    "from sklearn.model_selection import train_test_split\n",
    "from sklearn.preprocessing import StandardScaler\n",
    "seed=10\n",
    "X = fat.drop(\"bodyfat\", axis=1)  \n",
    "y = fat[\"bodyfat\"]\n",
    "X_train, X_test, y_train, y_test = train_test_split(X,y, test_size=0.3, random_state=seed, shuffle=True)\n",
    "scaler = StandardScaler()\n",
    "X_train = scaler.fit_transform(X_train)\n",
    "X_test = scaler.transform(X_test)"
   ]
  },
  {
   "attachments": {},
   "cell_type": "markdown",
   "metadata": {},
   "source": [
    "(2) Fit a full multiple linear model using least squares on the training set, and report the test error (mean square error on the test data) obtained."
   ]
  },
  {
   "cell_type": "code",
   "execution_count": 3,
   "metadata": {},
   "outputs": [
    {
     "name": "stdout",
     "output_type": "stream",
     "text": [
      "Test Mean Squared Error: 0.0708\n"
     ]
    }
   ],
   "source": [
    "#code here\n",
    "import numpy as np\n",
    "from sklearn.linear_model import LinearRegression\n",
    "from sklearn.metrics import mean_squared_error\n",
    "\n",
    "# Fit the full model\n",
    "model = LinearRegression()\n",
    "model.fit(X_train, y_train)\n",
    "\n",
    "# Predict on test set\n",
    "y_pred = model.predict(X_test)\n",
    "\n",
    "# Compute test error (mean squared error)\n",
    "mse = mean_squared_error(y_test, y_pred)\n",
    "print(f\"Test Mean Squared Error: {mse:.4f}\")"
   ]
  },
  {
   "cell_type": "code",
   "execution_count": null,
   "metadata": {},
   "outputs": [],
   "source": []
  },
  {
   "attachments": {},
   "cell_type": "markdown",
   "metadata": {},
   "source": [
    "(3) Fit a ridge model on the training set, with $\\lambda$ chosen by 10-fold crossvalidation. Report the test error (mean square error on the test data) obtained."
   ]
  },
  {
   "cell_type": "code",
   "execution_count": 4,
   "metadata": {},
   "outputs": [
    {
     "name": "stdout",
     "output_type": "stream",
     "text": [
      "Test Mean Squared Error (Ridge): 0.0668\n",
      "Chosen alpha (lambda): 0.1\n"
     ]
    }
   ],
   "source": [
    "#code here\n",
    "from sklearn.linear_model import Ridge, RidgeCV  \n",
    "##please use default alpha values for RidgeCV \n",
    "from sklearn.model_selection import KFold\n",
    "k_fold = KFold(n_splits=10, random_state=1, shuffle=True)\n",
    "\n",
    "# Fit RidgeCV model with default alphas and specified CV\n",
    "ridge_cv = RidgeCV(cv=k_fold)\n",
    "ridge_cv.fit(X_train, y_train)\n",
    "\n",
    "# Predict on test set\n",
    "y_pred_ridge = ridge_cv.predict(X_test)\n",
    "\n",
    "# Compute test MSE\n",
    "mse_ridge = mean_squared_error(y_test, y_pred_ridge)\n",
    "print(f\"Test Mean Squared Error (Ridge): {mse_ridge:.4f}\")\n",
    "print(f\"Chosen alpha (lambda): {ridge_cv.alpha_}\")"
   ]
  },
  {
   "attachments": {},
   "cell_type": "markdown",
   "metadata": {},
   "source": [
    "(4) Fit a lasso model on the training set, with $\\lambda$  chosen by 10-fold crossvalidation. Report the test error (mean square error on the test data) obtained."
   ]
  },
  {
   "cell_type": "code",
   "execution_count": 5,
   "metadata": {},
   "outputs": [
    {
     "name": "stdout",
     "output_type": "stream",
     "text": [
      "Test Mean Squared Error (Lasso): 0.0720\n",
      "Chosen alpha (lambda): 0.007774432837114131\n"
     ]
    }
   ],
   "source": [
    "#code here\n",
    "from sklearn.linear_model import Lasso, LassoCV\n",
    "lassocv = LassoCV(alphas = None, cv = k_fold, max_iter = 10000, random_state=1)\n",
    "\n",
    "lassocv.fit(X_train, y_train)\n",
    "\n",
    "# Predict on the test set\n",
    "y_pred_lasso = lassocv.predict(X_test)\n",
    "\n",
    "# Compute test MSE\n",
    "mse_lasso = mean_squared_error(y_test, y_pred_lasso)\n",
    "print(f\"Test Mean Squared Error (Lasso): {mse_lasso:.4f}\")\n",
    "print(f\"Chosen alpha (lambda): {lassocv.alpha_}\")"
   ]
  },
  {
   "cell_type": "code",
   "execution_count": null,
   "metadata": {},
   "outputs": [],
   "source": []
  }
 ],
 "metadata": {
  "kernelspec": {
   "display_name": "Python 3",
   "language": "python",
   "name": "python3"
  },
  "language_info": {
   "codemirror_mode": {
    "name": "ipython",
    "version": 3
   },
   "file_extension": ".py",
   "mimetype": "text/x-python",
   "name": "python",
   "nbconvert_exporter": "python",
   "pygments_lexer": "ipython3",
   "version": "3.13.2"
  },
  "orig_nbformat": 4,
  "vscode": {
   "interpreter": {
    "hash": "139f39c35911530f58a71008b0639ee4976ca5534c75a5f8e1d0d362af752765"
   }
  }
 },
 "nbformat": 4,
 "nbformat_minor": 2
}
