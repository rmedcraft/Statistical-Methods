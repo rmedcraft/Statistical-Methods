{
 "cells": [
  {
   "attachments": {},
   "cell_type": "markdown",
   "metadata": {},
   "source": [
    "## Quiz 3\n",
    "- You must show your work (Python code) in the code cells.\n",
    "- Answer the questions in the Markdown cells.\n",
    "- You must submit this file to the Quiz3 Drop Box on D2L before 9:50am.\n"
   ]
  },
  {
   "attachments": {},
   "cell_type": "markdown",
   "metadata": {},
   "source": [
    "### Question 1: One-way ANOVA\n",
    "Consider an inheritance study with beef animals. Five sires (male animals) were each mated to a separate group of dams (female animals). Birth weight of eight male calves (from different dams) in each of the five sire groups were recorded. The following Python code has created the data for you."
   ]
  },
  {
   "cell_type": "code",
   "execution_count": 2,
   "metadata": {},
   "outputs": [
    {
     "name": "stdout",
     "output_type": "stream",
     "text": [
      "   weight sire\n",
      "0      61    1\n",
      "1     100    1\n",
      "2      56    1\n",
      "3     113    1\n",
      "4      99    1\n",
      "object\n"
     ]
    }
   ],
   "source": [
    "import pandas as pd\n",
    "weight = [61, 100,  56, 113,  99, 103,  75,  62,  ## sire 1\n",
    "            75, 102,  95, 103,  98, 115,  98,  94,  ## sire 2\n",
    "            58,  60,  60,  57,  57,  59,  54, 100,  ## sire 3\n",
    "            57,  56,  67,  59,  58, 121, 101, 101,  ## sire 4\n",
    "            59,  46, 120, 115, 115,  93, 105,  75]  ## sire 5\n",
    "sire = sum([[\"1\"]*8, [\"2\"]*8, [\"3\"]*8,[\"4\"]*8, [\"5\"]*8],[])\n",
    "animals =pd.DataFrame({'weight':weight, 'sire':sire})\n",
    "print(animals.head())\n",
    "print(animals['sire'].dtypes)"
   ]
  },
  {
   "attachments": {},
   "cell_type": "markdown",
   "metadata": {},
   "source": [
    "(1) Visualize the data from the experiment using box-plot."
   ]
  },
  {
   "cell_type": "code",
   "execution_count": 9,
   "metadata": {},
   "outputs": [
    {
     "data": {
      "image/png": "[encoded data removed]",
      "text/plain": [
       "<Figure size 640x480 with 1 Axes>"
      ]
     },
     "metadata": {},
     "output_type": "display_data"
    }
   ],
   "source": [
    "#code here\n",
    "import matplotlib.pyplot as plt\n",
    "animals.plot(kind=\"box\")\n",
    "plt.show()"
   ]
  },
  {
   "attachments": {},
   "cell_type": "markdown",
   "metadata": {},
   "source": [
    "(2) Fit the data using a fixed-effect model. Do you reject the null hypothesis that sire groups have same effectiveness on the weights of male calves at level 0.05?\n"
   ]
  },
  {
   "cell_type": "markdown",
   "metadata": {},
   "source": [
    "**Answer:**"
   ]
  },
  {
   "cell_type": "code",
   "execution_count": 12,
   "metadata": {},
   "outputs": [
    {
     "name": "stdout",
     "output_type": "stream",
     "text": [
      "            sum_sq    df         F    PR(>F)\n",
      "C(sire)    5591.15   4.0  3.013819  0.030874\n",
      "Residual  16232.75  35.0       NaN       NaN\n"
     ]
    }
   ],
   "source": [
    "#code here\n",
    "import statsmodels.api as sm\n",
    "import statsmodels.formula.api as smf\n",
    "model = smf.ols(\"weight ~ C(sire)\", data=animals).fit()\n",
    "anova_table = sm.stats.anova_lm(model, typ=2)\n",
    "print(anova_table)"
   ]
  },
  {
   "cell_type": "markdown",
   "metadata": {},
   "source": [
    "The p-value is 0.03, which is less than 0.05, so we reject the null hypothesis"
   ]
  },
  {
   "attachments": {},
   "cell_type": "markdown",
   "metadata": {},
   "source": [
    "(3) Use Tukey’s method to conduct the post-hoc analysis among the five levels of age of the seeds and visualize the multiple comparisons at significance level 0.05. Write down your conclusions (that is, explain how many groups are formed)."
   ]
  },
  {
   "cell_type": "markdown",
   "metadata": {},
   "source": [
    "**Answer:**"
   ]
  },
  {
   "cell_type": "code",
   "execution_count": 14,
   "metadata": {},
   "outputs": [
    {
     "name": "stdout",
     "output_type": "stream",
     "text": [
      " Multiple Comparison of Means - Tukey HSD, FWER=0.05 \n",
      "=====================================================\n",
      "group1 group2 meandiff p-adj   lower    upper  reject\n",
      "-----------------------------------------------------\n",
      "     1      2   13.875 0.6998 -17.0834 44.8334  False\n",
      "     1      3    -20.5 0.3342 -51.4584 10.4584  False\n",
      "     1      4   -6.125 0.9787 -37.0834 24.8334  False\n",
      "     1      5    7.375 0.9584 -23.5834 38.3334  False\n",
      "     2      3  -34.375 0.0233 -65.3334 -3.4166   True\n",
      "     2      4    -20.0 0.3585 -50.9584 10.9584  False\n",
      "     2      5     -6.5 0.9736 -37.4584 24.4584  False\n",
      "     3      4   14.375 0.6718 -16.5834 45.3334  False\n",
      "     3      5   27.875 0.0945  -3.0834 58.8334  False\n",
      "     4      5     13.5 0.7204 -17.4584 44.4584  False\n",
      "-----------------------------------------------------\n"
     ]
    },
    {
     "data": {
      "image/png": "[encoded data removed]",
      "text/plain": [
       "<Figure size 1000x600 with 1 Axes>"
      ]
     },
     "metadata": {},
     "output_type": "display_data"
    }
   ],
   "source": [
    "#code here\n",
    "from statsmodels.stats.multicomp import pairwise_tukeyhsd\n",
    "\n",
    "tukey = pairwise_tukeyhsd(endog=animals['weight'], groups=animals['sire'], alpha=0.05)\n",
    "\n",
    "print(tukey)\n",
    "\n",
    "tukey.plot_simultaneous()\n",
    "plt.grid(True)\n",
    "plt.show()"
   ]
  },
  {
   "cell_type": "markdown",
   "metadata": {},
   "source": [
    "Since there was only one rejection in the Tukey test, this means there are only two groups"
   ]
  },
  {
   "cell_type": "markdown",
   "metadata": {},
   "source": [
    "### Question 2:  1-Way Frequency Table \n",
    "Assume you go hiking with your friends. Every evening, you draw lots who has to do the washing up.  But at the end of the trip, you seem to have done most of the work.\n",
    "\n",
    "| You |Peter | Hans|Paul |Mary |Joe|\n",
    "|---|---     |---  |---  |--- |---|\n",
    "| 10 |6 | 5|4 |5 |3 |\n",
    "\n",
    "Has there been any foul play here?  Verify your answer at significance level 0.05."
   ]
  },
  {
   "cell_type": "markdown",
   "metadata": {},
   "source": [
    "**Answer:**"
   ]
  },
  {
   "cell_type": "code",
   "execution_count": 16,
   "metadata": {},
   "outputs": [
    {
     "name": "stdout",
     "output_type": "stream",
     "text": [
      "5.363636363636364 0.37313038594870584\n"
     ]
    }
   ],
   "source": [
    "## Code here\n",
    "from scipy.stats import chisquare\n",
    "\n",
    "observed = [10, 6, 5, 4, 5, 3]\n",
    "\n",
    "expected = [33 / len(observed)] * 6\n",
    "# print(expected)\n",
    "\n",
    "stat, pval = chisquare(f_obs=observed, f_exp=expected)\n",
    "\n",
    "print(stat, pval)"
   ]
  },
  {
   "cell_type": "markdown",
   "metadata": {},
   "source": [
    "Since the p-value is greater than 0.05, there is no significant evidence of foul play"
   ]
  },
  {
   "cell_type": "markdown",
   "metadata": {},
   "source": [
    "###  Question 3:  2-Way Contingency Table\n",
    "The following table shows the classification of gender and left/right-handed of a random sample of 100 students in a university.\n",
    "\n",
    "|  |Right-handed |Left-handed  |\n",
    "|--- |---| --- |\n",
    "| Male |  43  | 9 |\n",
    "| Female | 44 |4  |\n",
    "\n",
    "Are the males more left-handed than females?  Verify your conclusion at significance level 0.05.  Use either Chi-square test or Fisher's exact test or both. "
   ]
  },
  {
   "cell_type": "markdown",
   "metadata": {},
   "source": [
    "**Answer:**"
   ]
  },
  {
   "cell_type": "code",
   "execution_count": 18,
   "metadata": {},
   "outputs": [
    {
     "name": "stdout",
     "output_type": "stream",
     "text": [
      "0.150192385195283\n"
     ]
    }
   ],
   "source": [
    "#code here\n",
    "from scipy.stats import chi2_contingency\n",
    "\n",
    "table = [[43, 9], [44, 4]]\n",
    "\n",
    "chi2, p_val, dof, expected = chi2_contingency(table)\n",
    "\n",
    "print(p_val / 2) # only looking at males, we can use a one sided approximation"
   ]
  },
  {
   "cell_type": "markdown",
   "metadata": {},
   "source": [
    "The p-value is above 0.05, so there isn't significant evidence that men are more left handed than women"
   ]
  }
 ],
 "metadata": {
  "kernelspec": {
   "display_name": "Python 3",
   "language": "python",
   "name": "python3"
  },
  "language_info": {
   "codemirror_mode": {
    "name": "ipython",
    "version": 3
   },
   "file_extension": ".py",
   "mimetype": "text/x-python",
   "name": "python",
   "nbconvert_exporter": "python",
   "pygments_lexer": "ipython3",
   "version": "3.13.2"
  },
  "orig_nbformat": 4,
  "vscode": {
   "interpreter": {
    "hash": "139f39c35911530f58a71008b0639ee4976ca5534c75a5f8e1d0d362af752765"
   }
  }
 },
 "nbformat": 4,
 "nbformat_minor": 2
}
