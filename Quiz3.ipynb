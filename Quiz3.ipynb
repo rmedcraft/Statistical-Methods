{
 "cells": [
  {
   "attachments": {},
   "cell_type": "markdown",
   "metadata": {},
   "source": [
    "## Quiz 3\n",
    "- You must show your work (Python code) in the code cells.\n",
    "- Answer the questions in the Markdown cells.\n",
    "- You must submit this file to the Quiz3 Drop Box on D2L before 9:50am.\n"
   ]
  },
  {
   "attachments": {},
   "cell_type": "markdown",
   "metadata": {},
   "source": [
    "### Question 1: One-way ANOVA\n",
    "Consider an inheritance study with beef animals. Five sires (male animals) were each mated to a separate group of dams (female animals). Birth weight of eight male calves (from different dams) in each of the five sire groups were recorded. The following Python code has created the data for you."
   ]
  },
  {
   "cell_type": "code",
   "execution_count": 7,
   "metadata": {},
   "outputs": [
    {
     "name": "stdout",
     "output_type": "stream",
     "text": [
      "   weight sire\n",
      "0      61    1\n",
      "1     100    1\n",
      "2      56    1\n",
      "3     113    1\n",
      "4      99    1\n",
      "object\n"
     ]
    }
   ],
   "source": [
    "import pandas as pd\n",
    "weight = [61, 100,  56, 113,  99, 103,  75,  62,  ## sire 1\n",
    "            75, 102,  95, 103,  98, 115,  98,  94,  ## sire 2\n",
    "            58,  60,  60,  57,  57,  59,  54, 100,  ## sire 3\n",
    "            57,  56,  67,  59,  58, 121, 101, 101,  ## sire 4\n",
    "            59,  46, 120, 115, 115,  93, 105,  75]  ## sire 5\n",
    "sire = sum([[\"1\"]*8, [\"2\"]*8, [\"3\"]*8,[\"4\"]*8, [\"5\"]*8],[])\n",
    "animals =pd.DataFrame({'weight':weight, 'sire':sire})\n",
    "print(animals.head())\n",
    "print(animals['sire'].dtypes)"
   ]
  },
  {
   "attachments": {},
   "cell_type": "markdown",
   "metadata": {},
   "source": [
    "(1) Visualize the data from the experiment using box-plot."
   ]
  },
  {
   "cell_type": "code",
   "execution_count": 8,
   "metadata": {},
   "outputs": [],
   "source": [
    "#code here"
   ]
  },
  {
   "attachments": {},
   "cell_type": "markdown",
   "metadata": {},
   "source": [
    "(2) Fit the data using a fixed-effect model. Do you reject the null hypothesis that sire groups have same effectiveness on the weights of male calves at level 0.05?\n"
   ]
  },
  {
   "cell_type": "markdown",
   "metadata": {},
   "source": [
    "**Answer:**"
   ]
  },
  {
   "cell_type": "code",
   "execution_count": 9,
   "metadata": {},
   "outputs": [],
   "source": [
    "#code here"
   ]
  },
  {
   "attachments": {},
   "cell_type": "markdown",
   "metadata": {},
   "source": [
    "(3) Use Tukey’s method to conduct the post-hoc analysis among the five levels of age of the seeds and visualize the multiple comparisons at significance level 0.05. Write down your conclusions (that is, explain how many groups are formed)."
   ]
  },
  {
   "cell_type": "markdown",
   "metadata": {},
   "source": [
    "**Answer:**"
   ]
  },
  {
   "cell_type": "code",
   "execution_count": 10,
   "metadata": {},
   "outputs": [],
   "source": [
    "#code here"
   ]
  },
  {
   "cell_type": "markdown",
   "metadata": {},
   "source": [
    "### Question 2:  1-Way Frequency Table \n",
    "Assume you go hiking with your friends. Every evening, you draw lots who has to do the washing up.  But at the end of the trip, you seem to have done most of the work.\n",
    "\n",
    "| You |Peter | Hans|Paul |Mary |Joe|\n",
    "|---|---     |---  |---  |--- |---|\n",
    "| 10 |6 | 5|4 |5 |3 |\n",
    "\n",
    "Has there been any foul play here?  Verify your answer at significance level 0.05."
   ]
  },
  {
   "cell_type": "markdown",
   "metadata": {},
   "source": [
    "**Answer:**"
   ]
  },
  {
   "cell_type": "code",
   "execution_count": 11,
   "metadata": {},
   "outputs": [],
   "source": [
    "## Code here\n"
   ]
  },
  {
   "cell_type": "markdown",
   "metadata": {},
   "source": [
    "###  Question 3:  2-Way Contingency Table\n",
    "The following table shows the classification of gender and left/right-handed of a random sample of 100 students in a university.\n",
    "\n",
    "|  |Right-handed |Left-handed  |\n",
    "|--- |---| --- |\n",
    "| Male |  43  | 9 |\n",
    "| Female | 44 |4  |\n",
    "\n",
    "Are the males more left-handed than females?  Verify your conclusion at significance level 0.05.  Use either Chi-square test or Fisher's exact test or both. "
   ]
  },
  {
   "cell_type": "markdown",
   "metadata": {},
   "source": [
    "**Answer:**"
   ]
  },
  {
   "cell_type": "code",
   "execution_count": 6,
   "metadata": {},
   "outputs": [],
   "source": [
    "#code here"
   ]
  }
 ],
 "metadata": {
  "kernelspec": {
   "display_name": "Python 3",
   "language": "python",
   "name": "python3"
  },
  "language_info": {
   "codemirror_mode": {
    "name": "ipython",
    "version": 3
   },
   "file_extension": ".py",
   "mimetype": "text/x-python",
   "name": "python",
   "nbconvert_exporter": "python",
   "pygments_lexer": "ipython3",
   "version": "3.13.1"
  },
  "orig_nbformat": 4,
  "vscode": {
   "interpreter": {
    "hash": "139f39c35911530f58a71008b0639ee4976ca5534c75a5f8e1d0d362af752765"
   }
  }
 },
 "nbformat": 4,
 "nbformat_minor": 2
}
