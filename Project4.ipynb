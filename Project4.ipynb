{
 "cells": [
  {
   "cell_type": "markdown",
   "metadata": {},
   "source": [
    "### Question 1: 1-way ANOVA.\n",
    "Mechanical parts such as computer disk drives, light bulbs, and glue bonds eventually fail.  One experimental method for reliability is called an accelerated life test.\n",
    "Parts under stress will usually fail sooner than parts that are unstressed. By modeling the lifetimes of parts under various stresses, we can estimate (extrapolate\n",
    "to) the lifetime of parts that are unstressed. That way we get an estimate of the unstressed lifetime without having to wait the complete unstressed lifetime.\n",
    "\n",
    "Nelson (1990) gave an example where the goal was to estimate the lifetime (in hours) of an encapsulating resin for gold-aluminum bonds in integrated circuits operating at 120$^{o}C$. Since the lifetimes were expected to be\n",
    "rather long, an accelerated test was used. \n",
    "\n",
    "Thirty-seven units were assigned\n",
    "at random to one of five different temperature stresses, ranging from 175$^{o}C$ to\n",
    "250$^{o}C$. The following table gives the $\\log_{10}$ lifetimes in hours for the test units:\n",
    "\n",
    "\n",
    "|Temperature |$\\log_{10}$ times till failure |   \n",
    "|--- | ------|\n",
    "|175 | 2.04, 1.85, 1.91, 1.96, 2.00, 1.88, 1.92, 1.90 | \n",
    "|194 | 1.66, 1.66, 1.71, 1.61, 1.42, 1.55, 1.76, 1.66| \n",
    "|213 | 1.53, 1.35, 1.54, 1.27, 1.38, 1.26, 1.31, 1.38 | \n",
    "|231 | 1.15, 1.21, 1.22, 1.28, 1.17, 1.17, 1.16 |\n",
    "|250 | 1.26, 1.02, 0.83, 1.09, 1.08, 1.06 |\n"
   ]
  },
  {
   "cell_type": "markdown",
   "metadata": {},
   "source": [
    "(1) Visualize the data from the experiment using box-plot."
   ]
  },
  {
   "cell_type": "code",
   "execution_count": 2,
   "metadata": {},
   "outputs": [],
   "source": [
    "import pandas as pd\n",
    "import matplotlib.pyplot as plt\n",
    "import seaborn as sns\n",
    "data_175=[2.04, 1.85, 1.91, 1.96, 2.00, 1.88, 1.92, 1.90]\n",
    "data_194=[1.66, 1.66, 1.71, 1.61, 1.42, 1.55, 1.76, 1.66]\n",
    "data_213=[1.53, 1.35, 1.54, 1.27, 1.38, 1.26, 1.31, 1.38]\n",
    "data_231=[1.15, 1.21, 1.22, 1.28, 1.17, 1.17, 1.16]\n",
    "data_250=[1.26, 1.02, 0.83, 1.09, 1.08, 1.06]\n",
    "y=sum([data_175, data_194, data_213,data_231, data_250],[])\n",
    "factor=sum([['175']*len(data_175), ['194']*len(data_194), ['213']*len(data_213),['231']*len(data_231), ['250']*len(data_250)],[])\n",
    "df=pd.DataFrame({'resp':y, 'Trt':factor})"
   ]
  },
  {
   "cell_type": "markdown",
   "metadata": {},
   "source": [
    "(2) Conduct 1-way ANOVA.  Do you reject the null hypothesis that all the treatment means are the same?\n",
    "\n",
    "**Ans**:"
   ]
  },
  {
   "cell_type": "code",
   "execution_count": 3,
   "metadata": {},
   "outputs": [
    {
     "data": {
      "text/html": [
       "<div>\n",
       "<style scoped>\n",
       "    .dataframe tbody tr th:only-of-type {\n",
       "        vertical-align: middle;\n",
       "    }\n",
       "\n",
       "    .dataframe tbody tr th {\n",
       "        vertical-align: top;\n",
       "    }\n",
       "\n",
       "    .dataframe thead th {\n",
       "        text-align: right;\n",
       "    }\n",
       "</style>\n",
       "<table border=\"1\" class=\"dataframe\">\n",
       "  <thead>\n",
       "    <tr style=\"text-align: right;\">\n",
       "      <th></th>\n",
       "      <th>sum_sq</th>\n",
       "      <th>df</th>\n",
       "      <th>F</th>\n",
       "      <th>PR(&gt;F)</th>\n",
       "    </tr>\n",
       "  </thead>\n",
       "  <tbody>\n",
       "    <tr>\n",
       "      <th>Trt</th>\n",
       "      <td>3.537632</td>\n",
       "      <td>4.0</td>\n",
       "      <td>96.362963</td>\n",
       "      <td>2.241949e-17</td>\n",
       "    </tr>\n",
       "    <tr>\n",
       "      <th>Residual</th>\n",
       "      <td>0.293692</td>\n",
       "      <td>32.0</td>\n",
       "      <td>NaN</td>\n",
       "      <td>NaN</td>\n",
       "    </tr>\n",
       "  </tbody>\n",
       "</table>\n",
       "</div>"
      ],
      "text/plain": [
       "            sum_sq    df          F        PR(>F)\n",
       "Trt       3.537632   4.0  96.362963  2.241949e-17\n",
       "Residual  0.293692  32.0        NaN           NaN"
      ]
     },
     "execution_count": 3,
     "metadata": {},
     "output_type": "execute_result"
    }
   ],
   "source": [
    "## code here\n",
    "import statsmodels.api as sm\n",
    "from statsmodels.formula.api import ols\n",
    "Model1=ols('resp ~ Trt', data=df).fit(alpha=0.01)\n",
    "anova_table = sm.stats.anova_lm(Model1, typ=2)\n",
    "anova_table\n"
   ]
  },
  {
   "cell_type": "markdown",
   "metadata": {},
   "source": [
    "The p-value is incredibly small, meaning we can reject the null hypothesis"
   ]
  },
  {
   "cell_type": "markdown",
   "metadata": {},
   "source": [
    "(3) Verify if the three model assumptions are valid.\n",
    "\n",
    "3 model assumptions:\n",
    "- Each sample was drawn from a normally distributed population\n",
    "- the variances of the populations that the samples come from are equal\n",
    "- The observations in each group are independent of each other & the observations within groups were obtained by a random sample\n",
    "\n",
    "\n",
    "**Ans**:"
   ]
  },
  {
   "cell_type": "markdown",
   "metadata": {},
   "source": [
    "We use the Shapiro-Wilk's method to determine whether the data comes from a normally distributed population"
   ]
  },
  {
   "cell_type": "code",
   "execution_count": 4,
   "metadata": {},
   "outputs": [
    {
     "data": {
      "text/plain": [
       "ShapiroResult(statistic=np.float64(0.9672661996442772), pvalue=np.float64(0.33926225670077687))"
      ]
     },
     "execution_count": 4,
     "metadata": {},
     "output_type": "execute_result"
    }
   ],
   "source": [
    "import scipy.stats as stats\n",
    "stats.shapiro(Model1.resid)"
   ]
  },
  {
   "cell_type": "markdown",
   "metadata": {},
   "source": [
    "The p-value of the shapiro-wilk's method indicates the data does come from a normal distributed population"
   ]
  },
  {
   "cell_type": "markdown",
   "metadata": {},
   "source": [
    "We conduct Bartlett's test to determine whether the sample data has equal variances."
   ]
  },
  {
   "cell_type": "code",
   "execution_count": null,
   "metadata": {},
   "outputs": [
    {
     "data": {
      "text/plain": [
       "BartlettResult(statistic=np.float64(7.651819982275299), pvalue=np.float64(0.10519803317275436))"
      ]
     },
     "execution_count": 5,
     "metadata": {},
     "output_type": "execute_result"
    }
   ],
   "source": [
    "stats.bartlett(data_175, data_194, data_213, data_231, data_250) "
   ]
  },
  {
   "cell_type": "markdown",
   "metadata": {},
   "source": [
    "The P value is 0.1, which is higher than the typical alpha value to reject the null hypothesis, so we know the population has equal variances"
   ]
  },
  {
   "cell_type": "markdown",
   "metadata": {},
   "source": [
    "We know from the question itself that the observations were independent of each other & that the observations were obtained through a random sample"
   ]
  },
  {
   "cell_type": "markdown",
   "metadata": {},
   "source": [
    "### Question 2: 2-way ANOVA \n",
    "\n",
    "The following table shows the results of an experiment on sprouting barley.  The 30 lots of seeds are divided at random into ten groups of three lots each, with each group receiving a different treatment. The ten treatments\n",
    "are the factorial combinations of amount of `water` used for sprouting (factor A) with two levels, and `age` of the seeds (factor B) with five levels. The response measured is the `number` of seeds sprouting."
   ]
  },
  {
   "cell_type": "markdown",
   "metadata": {},
   "source": [
    "         \n",
    "|ml H2O ||Age of|  Seeds |(weeks)||\n",
    "|--- |--- |--- |--- |--- |--- \n",
    "|    |1 | 3 |6 | 9| 12| \n",
    "|  4  |11,9,6 | 7,16,17 |9,19,35 | 13,35,28| 20,37,45| \n",
    "|  8  |8,3,3 | 1,7,3 |5,9,9 | 1,10,9| 11,15,25| \n",
    "\n"
   ]
  },
  {
   "cell_type": "markdown",
   "metadata": {},
   "source": [
    "(1) Use interaction plot to check if there is an interaction effect between `water` used and `age` of seeds.\\\n",
    "**Ans**:"
   ]
  },
  {
   "cell_type": "code",
   "execution_count": 16,
   "metadata": {},
   "outputs": [
    {
     "data": {
      "text/plain": [
       "<Axes: xlabel='age', ylabel='resp'>"
      ]
     },
     "execution_count": 16,
     "metadata": {},
     "output_type": "execute_result"
    },
    {
     "data": {
      "image/png": "[encoded data removed]",
      "text/plain": [
       "<Figure size 640x480 with 1 Axes>"
      ]
     },
     "metadata": {},
     "output_type": "display_data"
    }
   ],
   "source": [
    "## code here\n",
    "y=[11,9,6, 7,16,17, 9,19,35, 13,35,28, 20,37,45, 8,3,3, 1,7,3, 5,9,9,  1,10,9,  11,15,25]\n",
    "water=sum([['4']*15,['8']*15],[])\n",
    "age=sum([['1']*3,['3']*3,['6']*3,['9']*3,['12']*3]*2,[])\n",
    "df=pd.DataFrame({'resp':y, 'water':water,'age':age} )\n",
    "\n",
    "sns.lineplot(data=df, x=\"age\", y=\"resp\", hue=\"water\", style=\"water\", errorbar=None)\n"
   ]
  },
  {
   "cell_type": "markdown",
   "metadata": {},
   "source": [
    "The line segments are not parallel, so there appears to be no interaction effect"
   ]
  },
  {
   "cell_type": "markdown",
   "metadata": {},
   "source": [
    "(2) Conduct ANOVA for the experiment and draw your conclusions.\\\n",
    "**Ans**:"
   ]
  },
  {
   "cell_type": "code",
   "execution_count": 18,
   "metadata": {},
   "outputs": [
    {
     "data": {
      "text/html": [
       "<div>\n",
       "<style scoped>\n",
       "    .dataframe tbody tr th:only-of-type {\n",
       "        vertical-align: middle;\n",
       "    }\n",
       "\n",
       "    .dataframe tbody tr th {\n",
       "        vertical-align: top;\n",
       "    }\n",
       "\n",
       "    .dataframe thead th {\n",
       "        text-align: right;\n",
       "    }\n",
       "</style>\n",
       "<table border=\"1\" class=\"dataframe\">\n",
       "  <thead>\n",
       "    <tr style=\"text-align: right;\">\n",
       "      <th></th>\n",
       "      <th>sum_sq</th>\n",
       "      <th>df</th>\n",
       "      <th>F</th>\n",
       "      <th>PR(&gt;F)</th>\n",
       "    </tr>\n",
       "  </thead>\n",
       "  <tbody>\n",
       "    <tr>\n",
       "      <th>C(age)</th>\n",
       "      <td>1321.133333</td>\n",
       "      <td>4.0</td>\n",
       "      <td>5.529297</td>\n",
       "      <td>0.003645</td>\n",
       "    </tr>\n",
       "    <tr>\n",
       "      <th>C(water)</th>\n",
       "      <td>1178.133333</td>\n",
       "      <td>1.0</td>\n",
       "      <td>19.723214</td>\n",
       "      <td>0.000251</td>\n",
       "    </tr>\n",
       "    <tr>\n",
       "      <th>C(water):C(age)</th>\n",
       "      <td>208.866667</td>\n",
       "      <td>4.0</td>\n",
       "      <td>0.874163</td>\n",
       "      <td>0.496726</td>\n",
       "    </tr>\n",
       "    <tr>\n",
       "      <th>Residual</th>\n",
       "      <td>1194.666667</td>\n",
       "      <td>20.0</td>\n",
       "      <td>NaN</td>\n",
       "      <td>NaN</td>\n",
       "    </tr>\n",
       "  </tbody>\n",
       "</table>\n",
       "</div>"
      ],
      "text/plain": [
       "                      sum_sq    df          F    PR(>F)\n",
       "C(age)           1321.133333   4.0   5.529297  0.003645\n",
       "C(water)         1178.133333   1.0  19.723214  0.000251\n",
       "C(water):C(age)   208.866667   4.0   0.874163  0.496726\n",
       "Residual         1194.666667  20.0        NaN       NaN"
      ]
     },
     "execution_count": 18,
     "metadata": {},
     "output_type": "execute_result"
    }
   ],
   "source": [
    "## code here\n",
    "model = ols('resp ~ C(age) + C(water) + C(water):C(age)', data=df).fit()\n",
    "sm.stats.anova_lm(model, typ=2)"
   ]
  },
  {
   "cell_type": "markdown",
   "metadata": {},
   "source": [
    "The p-values of age and water indicate that they have a significant effect on the number of seeds sprouting. \n",
    "\n",
    "The high p-value of water:age indicates there is no relationship between these two values"
   ]
  },
  {
   "cell_type": "markdown",
   "metadata": {},
   "source": [
    "(3) Suppose there is no interaction effect between `water` used and `age` of seeds, use Tukey’s method to conduct the post-hoc analysis among the five levels of `age` of the seeds and visualize the multiple comparisons at significance\n",
    "level 0.05. Write down your conclusions (explain how many groups are formed).\\\n",
    "**Ans**:"
   ]
  },
  {
   "cell_type": "code",
   "execution_count": 22,
   "metadata": {},
   "outputs": [
    {
     "name": "stdout",
     "output_type": "stream",
     "text": [
      " Multiple Comparison of Means - Tukey HSD, FWER=0.05 \n",
      "=====================================================\n",
      "group1 group2 meandiff p-adj   lower    upper  reject\n",
      "-----------------------------------------------------\n",
      "     1     12  18.8333 0.0272   1.6026 36.0641   True\n",
      "     1      3   1.8333 0.9978 -15.3974 19.0641  False\n",
      "     1      6   7.6667 0.6896  -9.5641 24.8974  False\n",
      "     1      9   9.3333 0.5166  -7.8974 26.5641  False\n",
      "    12      3    -17.0 0.0544 -34.2308  0.2308  False\n",
      "    12      6 -11.1667 0.3416 -28.3974  6.0641  False\n",
      "    12      9     -9.5 0.4995 -26.7308  7.7308  False\n",
      "     3      6   5.8333 0.8554 -11.3974 23.0641  False\n",
      "     3      9      7.5 0.7064  -9.7308 24.7308  False\n",
      "     6      9   1.6667 0.9985 -15.5641 18.8974  False\n",
      "-----------------------------------------------------\n"
     ]
    }
   ],
   "source": [
    "## code here\n",
    "from statsmodels.stats.multicomp import pairwise_tukeyhsd\n",
    "tukeyresults1=pairwise_tukeyhsd(endog=df['resp'],\n",
    "groups=df['age'],alpha=0.05)\n",
    "print(tukeyresults1)"
   ]
  },
  {
   "cell_type": "markdown",
   "metadata": {},
   "source": [
    "the p-value when resp is 1 & when age is 12 indicate that there is a significant departure from the group mean at that point"
   ]
  }
 ],
 "metadata": {
  "kernelspec": {
   "display_name": "Python 3",
   "language": "python",
   "name": "python3"
  },
  "language_info": {
   "codemirror_mode": {
    "name": "ipython",
    "version": 3
   },
   "file_extension": ".py",
   "mimetype": "text/x-python",
   "name": "python",
   "nbconvert_exporter": "python",
   "pygments_lexer": "ipython3",
   "version": "3.13.2"
  }
 },
 "nbformat": 4,
 "nbformat_minor": 2
}
