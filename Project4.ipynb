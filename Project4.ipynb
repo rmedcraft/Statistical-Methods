{
 "cells": [
  {
   "cell_type": "markdown",
   "metadata": {},
   "source": [
    "### Question 1: 1-way ANOVA.\n",
    "Mechanical parts such as computer disk drives, light bulbs, and glue bonds eventually fail.  One experimental method for reliability is called an accelerated life test.\n",
    "Parts under stress will usually fail sooner than parts that are unstressed. By modeling the lifetimes of parts under various stresses, we can estimate (extrapolate\n",
    "to) the lifetime of parts that are unstressed. That way we get an estimate of the unstressed lifetime without having to wait the complete unstressed lifetime.\n",
    "\n",
    "Nelson (1990) gave an example where the goal was to estimate the lifetime (in hours) of an encapsulating resin for gold-aluminum bonds in integrated circuits operating at 120$^{o}C$. Since the lifetimes were expected to be\n",
    "rather long, an accelerated test was used. \n",
    "\n",
    "Thirty-seven units were assigned\n",
    "at random to one of five different temperature stresses, ranging from 175$^{o}C$ to\n",
    "250$^{o}C$. The following table gives the $\\log_{10}$ lifetimes in hours for the test units:\n",
    "\n",
    "\n",
    "|Temperature |$\\log_{10}$ times till failure |   \n",
    "|--- | ------|\n",
    "|175 | 2.04, 1.85, 1.91, 1.96, 2.00, 1.88, 1.92, 1.90 | \n",
    "|194 | 1.66, 1.66, 1.71, 1.61, 1.42, 1.55, 1.76, 1.66| \n",
    "|213 | 1.53, 1.35, 1.54, 1.27, 1.38, 1.26, 1.31, 1.38 | \n",
    "|231 | 1.15, 1.21, 1.22, 1.28, 1.17, 1.17, 1.16 |\n",
    "|250 | 1.26, 1.02, 0.83, 1.09, 1.08, 1.06 |\n"
   ]
  },
  {
   "cell_type": "markdown",
   "metadata": {},
   "source": [
    "(1) Visualize the data from the experiment using box-plot."
   ]
  },
  {
   "cell_type": "code",
   "execution_count": 1,
   "metadata": {},
   "outputs": [],
   "source": [
    "import pandas as pd\n",
    "import matplotlib.pyplot as plt\n",
    "import seaborn as sns\n",
    "data_175=[2.04, 1.85, 1.91, 1.96, 2.00, 1.88, 1.92, 1.90]\n",
    "data_194=[1.66, 1.66, 1.71, 1.61, 1.42, 1.55, 1.76, 1.66]\n",
    "data_213=[1.53, 1.35, 1.54, 1.27, 1.38, 1.26, 1.31, 1.38]\n",
    "data_231=[1.15, 1.21, 1.22, 1.28, 1.17, 1.17, 1.16]\n",
    "data_250=[1.26, 1.02, 0.83, 1.09, 1.08, 1.06]\n",
    "y=sum([data_175, data_194, data_213,data_231, data_250],[])\n",
    "factor=sum([['175']*len(data_175), ['194']*len(data_194), ['213']*len(data_213),['231']*len(data_231), ['250']*len(data_250)],[])\n",
    "df=pd.DataFrame({'resp':y, 'Trt':factor})"
   ]
  },
  {
   "cell_type": "markdown",
   "metadata": {},
   "source": [
    "(2) Conduct 1-way ANOVA.  Do you reject the null hypothesis that all the treatment means are the same?\n",
    "\n",
    "**Ans**:"
   ]
  },
  {
   "cell_type": "code",
   "execution_count": null,
   "metadata": {},
   "outputs": [
    {
     "data": {
      "text/html": [
       "<div>\n",
       "<style scoped>\n",
       "    .dataframe tbody tr th:only-of-type {\n",
       "        vertical-align: middle;\n",
       "    }\n",
       "\n",
       "    .dataframe tbody tr th {\n",
       "        vertical-align: top;\n",
       "    }\n",
       "\n",
       "    .dataframe thead th {\n",
       "        text-align: right;\n",
       "    }\n",
       "</style>\n",
       "<table border=\"1\" class=\"dataframe\">\n",
       "  <thead>\n",
       "    <tr style=\"text-align: right;\">\n",
       "      <th></th>\n",
       "      <th>sum_sq</th>\n",
       "      <th>df</th>\n",
       "      <th>F</th>\n",
       "      <th>PR(&gt;F)</th>\n",
       "    </tr>\n",
       "  </thead>\n",
       "  <tbody>\n",
       "    <tr>\n",
       "      <th>Trt</th>\n",
       "      <td>3.537632</td>\n",
       "      <td>4.0</td>\n",
       "      <td>96.362963</td>\n",
       "      <td>2.241949e-17</td>\n",
       "    </tr>\n",
       "    <tr>\n",
       "      <th>Residual</th>\n",
       "      <td>0.293692</td>\n",
       "      <td>32.0</td>\n",
       "      <td>NaN</td>\n",
       "      <td>NaN</td>\n",
       "    </tr>\n",
       "  </tbody>\n",
       "</table>\n",
       "</div>"
      ],
      "text/plain": [
       "            sum_sq    df          F        PR(>F)\n",
       "Trt       3.537632   4.0  96.362963  2.241949e-17\n",
       "Residual  0.293692  32.0        NaN           NaN"
      ]
     },
     "execution_count": 2,
     "metadata": {},
     "output_type": "execute_result"
    }
   ],
   "source": [
    "## code here\n",
    "import statsmodels.api as sm\n",
    "from statsmodels.formula.api import ols\n",
    "Model1=ols('resp ~ Trt', data=df).fit(alpha=0.01)\n",
    "anova_table = sm.stats.anova_lm(Model1, typ=2)\n"
   ]
  },
  {
   "cell_type": "markdown",
   "metadata": {},
   "source": [
    "(3) Verify if the three model assumptions are valid.\n",
    "\n",
    "**Ans**:"
   ]
  },
  {
   "cell_type": "code",
   "execution_count": 3,
   "metadata": {},
   "outputs": [
    {
     "data": {
      "image/png": "[encoded data removed]",
      "text/plain": [
       "<Figure size 640x480 with 1 Axes>"
      ]
     },
     "metadata": {},
     "output_type": "display_data"
    }
   ],
   "source": [
    "## code here\n",
    "import matplotlib.pyplot as plt\n",
    "import seaborn as sns\n",
    "sns.scatterplot(x=Model1.fittedvalues, y=Model1.resid)\n",
    "plt.show()"
   ]
  },
  {
   "cell_type": "markdown",
   "metadata": {},
   "source": [
    "### Question 2: 2-way ANOVA \n",
    "\n",
    "The following table shows the results of an experiment on sprouting barley.  The 30 lots of seeds are divided at random into ten groups of three lots each, with each group receiving a different treatment. The ten treatments\n",
    "are the factorial combinations of amount of `water` used for sprouting (factor A) with two levels, and `age` of the seeds (factor B) with five levels. The response measured is the `number` of seeds sprouting."
   ]
  },
  {
   "cell_type": "markdown",
   "metadata": {},
   "source": [
    "         \n",
    "|ml H2O ||Age of|  Seeds |(weeks)||\n",
    "|--- |--- |--- |--- |--- |--- \n",
    "|    |1 | 3 |6 | 9| 12| \n",
    "|  4  |11,9,6 | 7,16,17 |9,19,35 | 13,35,28| 20,37,45| \n",
    "|  8  |8,3,3 | 1,7,3 |5,9,9 | 1,10,9| 11,15,25| \n",
    "\n"
   ]
  },
  {
   "cell_type": "markdown",
   "metadata": {},
   "source": [
    "(1) Use interaction plot to check if there is an interaction effect between `water` used and `age` of seeds.\\\n",
    "**Ans**:"
   ]
  },
  {
   "cell_type": "code",
   "execution_count": 4,
   "metadata": {},
   "outputs": [],
   "source": [
    "## code here\n",
    "y=[11,9,6, 7,16,17, 9,19,35, 13,35,28, 20,37,45, 8,3,3, 1,7,3, 5,9,9,  1,10,9,  11,15,25]\n",
    "water=sum([['4']*15,['8']*15],[])\n",
    "age=sum([['1']*3,['3']*3,['6']*3,['9']*3,['12']*3]*2,[])\n",
    "df=pd.DataFrame({'resp':y, 'water':water,'age':age} )"
   ]
  },
  {
   "cell_type": "markdown",
   "metadata": {},
   "source": [
    "(2) Conduct ANOVA for the experiment and draw your conclusions.\\\n",
    "**Ans**:"
   ]
  },
  {
   "cell_type": "code",
   "execution_count": 5,
   "metadata": {},
   "outputs": [],
   "source": [
    "## code here"
   ]
  },
  {
   "cell_type": "markdown",
   "metadata": {},
   "source": [
    "(3) Suppose there is no interaction effect between `water` used and `age` of seeds, use Tukey’s method to conduct the post-hoc analysis among the five levels of `age` of the seeds and visualize the multiple comparisons at significance\n",
    "level 0.05. Write down your conclusions (explain how many groups are formed).\\\n",
    "**Ans**:"
   ]
  },
  {
   "cell_type": "code",
   "execution_count": 6,
   "metadata": {},
   "outputs": [],
   "source": [
    "## code here"
   ]
  }
 ],
 "metadata": {
  "kernelspec": {
   "display_name": "Python 3",
   "language": "python",
   "name": "python3"
  },
  "language_info": {
   "codemirror_mode": {
    "name": "ipython",
    "version": 3
   },
   "file_extension": ".py",
   "mimetype": "text/x-python",
   "name": "python",
   "nbconvert_exporter": "python",
   "pygments_lexer": "ipython3",
   "version": "3.13.2"
  }
 },
 "nbformat": 4,
 "nbformat_minor": 2
}
