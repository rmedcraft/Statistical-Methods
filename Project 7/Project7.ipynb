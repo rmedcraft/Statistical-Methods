{
 "cells": [
  {
   "cell_type": "markdown",
   "metadata": {},
   "source": [
    "### Question 1:  Best-subset regression and lasso regression\n",
    "Consider the `Boston` data set in package `MASS`.  Let 'medv' be the response variable.\n",
    "- 'crim'  per capita crime rate by town.\n",
    "- 'zn' proportion of residential land zoned for lots over 25,000 sq.ft.\n",
    "- 'indus' proportion of non-retail business acres per town.\n",
    "- 'chas' Charles River dummy variable (= 1 if tract bounds river; 0 otherwise).\n",
    "- 'nox' nitrogen oxides concentration (parts per 10 million).\n",
    "- 'rm' average number of rooms per dwelling.\n",
    "- 'age' proportion of owner-occupied units built prior to 1940.\n",
    "- 'dis' weighted mean of distances to five Boston employment centres.\n",
    "- 'rad' index of accessibility to radial highways.\n",
    "- 'tax' full-value property-tax rate per $10,000.\n",
    "- 'ptratio' pupil-teacher ratio by town.\n",
    "- 'black' 1000$(Bk-0.63)^2$ where Bk is the proportion of blacks by town.\n",
    "- 'lstat' lower status of the population (percent).\n",
    "- 'medv' median value of owner-occupied homes in $1000s.\n"
   ]
  },
  {
   "cell_type": "code",
   "execution_count": null,
   "metadata": {},
   "outputs": [],
   "source": [
    "import statsmodels.api as sm\n",
    "Boston = sm.datasets.get_rdataset(\"Boston\", \"MASS\").data\n",
    "print(Boston.columns)\n",
    "Boston.dropna(inplace=True)\n",
    "print(Boston.shape)"
   ]
  },
  {
   "cell_type": "markdown",
   "metadata": {},
   "source": [
    "(1) Consider all regression models without interaction effects. Use 10-fold cross validation to conduct best-subset regression.  What is your best model?   If you could not install `abess` package, use forward selection or backward elimination mehtod."
   ]
  },
  {
   "cell_type": "code",
   "execution_count": null,
   "metadata": {},
   "outputs": [],
   "source": []
  },
  {
   "cell_type": "markdown",
   "metadata": {},
   "source": [
    "(2) Consider all regression models without interaction effects. Use lasso regression with 10-fold cross validation to choose the tuning parameter.  What is the final model?"
   ]
  },
  {
   "cell_type": "code",
   "execution_count": null,
   "metadata": {},
   "outputs": [],
   "source": []
  },
  {
   "cell_type": "markdown",
   "metadata": {},
   "source": [
    "### Question 2  In this question, we will predict the number of applications received using the other variables in the `College` data set (use the first column as index).\n",
    "\n",
    "The data set contains a number of variables for 777 different universities and colleges in the US. The variables are\n",
    "- `Private`: Public/private indicator\n",
    "- `Apps`: Number of applications received\n",
    "- `Accept`: Number of applicants accepted\n",
    "- `Enroll`: Number of new students enrolled\n",
    "- `Top10perc`: New students from top 10% of high school class\n",
    "- `Top25perc`: New students from top 25% of high school class\n",
    "- `F.Undergrad`: Number of full-time undergraduates\n",
    "- `P.Undergrad`: Number of part-time undergraduates\n",
    "- `Outstate`: Out-of-state tuition\n",
    "- `Room.Board`: Room and board costs\n",
    "- `Books`: Estimated book costs\n",
    "- `Personal`: Estimated personal spending\n",
    "- `PhD`: Percent of faculty with Ph.D.’s\n",
    "- `Terminal`: Percent of faculty with terminal degree\n",
    "- `S.F.Ratio`: Student/faculty ratio\n",
    "- `perc.alumni`: Percent of alumni who donate\n",
    "- `Expend`: Instructional expenditure per student\n",
    "- `Grad.Rate`: Graduation rate"
   ]
  },
  {
   "cell_type": "markdown",
   "metadata": {},
   "source": [
    "(1) Update the data by converting `Private` as a dummy variable."
   ]
  },
  {
   "cell_type": "code",
   "execution_count": 1,
   "metadata": {},
   "outputs": [],
   "source": [
    "#code here\n",
    "import pandas as pd\n",
    "import numpy as np\n",
    "college=pd.read_csv(\"College.csv\", index_col=0, header=0)"
   ]
  },
  {
   "cell_type": "markdown",
   "metadata": {},
   "source": [
    "(2) The following Python code split the data set into a training set and a test set after the original variable `Private` is dropped."
   ]
  },
  {
   "cell_type": "code",
   "execution_count": null,
   "metadata": {},
   "outputs": [],
   "source": [
    "from sklearn.model_selection import train_test_split\n",
    "from sklearn.preprocessing import StandardScaler\n",
    "seed=100\n",
    "X = college.drop(\"Apps\", axis=1)  \n",
    "y = college[\"Apps\"]\n",
    "X_train, X_test, y_train, y_test = train_test_split(X,y, test_size=0.3, random_state=seed, shuffle=True)\n",
    "scaler = StandardScaler()\n",
    "X_train = scaler.fit_transform(X_train)\n",
    "X_test = scaler.transform(X_test)\n",
    "#transform() applies precomputed scaling parameters on the training data "
   ]
  },
  {
   "cell_type": "markdown",
   "metadata": {},
   "source": [
    "(3) Fit a lasso model on the training set, with $\\lambda$ chosen by crossvalidation. Report the test error obtained, along with the number of non-zero coefficient estimates."
   ]
  },
  {
   "cell_type": "code",
   "execution_count": null,
   "metadata": {},
   "outputs": [],
   "source": []
  },
  {
   "cell_type": "markdown",
   "metadata": {},
   "source": [
    "(4) Fit a PCR model on the training set, with $M$ chosen by crossvalidation.\n",
    "Report the test error obtained, along with the value of $M$ selected by cross-validation."
   ]
  },
  {
   "cell_type": "code",
   "execution_count": null,
   "metadata": {},
   "outputs": [],
   "source": []
  },
  {
   "cell_type": "markdown",
   "metadata": {},
   "source": [
    "(5) Fit a PLS model on the training set, with $M$ chosen by crossvalidation.\n",
    "Report the test error obtained, along with the value of $M$ selected by cross-validation."
   ]
  },
  {
   "cell_type": "code",
   "execution_count": null,
   "metadata": {},
   "outputs": [],
   "source": []
  },
  {
   "cell_type": "markdown",
   "metadata": {},
   "source": [
    "(6) Comment on the results obtained. How accurately can we predict\n",
    "the number of college applications received? Is there much\n",
    "difference among the test errors resulting from these four approaches?\n",
    "\n",
    "**Ans**:"
   ]
  }
 ],
 "metadata": {
  "kernelspec": {
   "display_name": "Python 3",
   "language": "python",
   "name": "python3"
  },
  "language_info": {
   "codemirror_mode": {
    "name": "ipython",
    "version": 3
   },
   "file_extension": ".py",
   "mimetype": "text/x-python",
   "name": "python",
   "nbconvert_exporter": "python",
   "pygments_lexer": "ipython3",
   "version": "3.11.4"
  }
 },
 "nbformat": 4,
 "nbformat_minor": 2
}
