{
 "cells": [
  {
   "cell_type": "markdown",
   "id": "9dae21e8",
   "metadata": {},
   "source": [
    "### Question 1"
   ]
  },
  {
   "cell_type": "code",
   "execution_count": 5,
   "id": "f72855d4",
   "metadata": {},
   "outputs": [
    {
     "name": "stdout",
     "output_type": "stream",
     "text": [
      "Intercept   -2.476636\n",
      "x1           3.901350\n",
      "x2          -4.691589\n",
      "dtype: float64\n"
     ]
    }
   ],
   "source": [
    "import pandas as pd\n",
    "from statsmodels.formula.api import ols\n",
    "\n",
    "df = pd.DataFrame({'x1': [-2, -2, 0, 1, 3], 'x2': [-3, 1, -1, -1, 2], 'y': [4, -15, 2, 6, 0]})\n",
    "# print(df)\n",
    "\n",
    "model = ols(formula=\"y ~ x1 + x2\", data=df).fit()\n",
    "print(model.params)"
   ]
  },
  {
   "cell_type": "code",
   "execution_count": null,
   "id": "017460fd",
   "metadata": {},
   "outputs": [],
   "source": []
  },
  {
   "cell_type": "markdown",
   "id": "a7509cd4",
   "metadata": {},
   "source": [
    "### Question 5"
   ]
  },
  {
   "cell_type": "code",
   "execution_count": 7,
   "id": "a9a42b2b",
   "metadata": {},
   "outputs": [
    {
     "name": "stdout",
     "output_type": "stream",
     "text": [
      "F 2.738949557982319\n",
      "Pval 0.05405791970627296\n"
     ]
    }
   ],
   "source": [
    "MSR = 229 / 3        # Regression Mean Square\n",
    "MSE = 1282 / 46      # Error Mean Square\n",
    "\n",
    "F = MSR / MSE\n",
    "\n",
    "from scipy.stats import f\n",
    "p_value = f.sf(F, dfn=3, dfd=46)\n",
    "print(\"F\", F)\n",
    "print(\"Pval\", p_value)"
   ]
  },
  {
   "cell_type": "markdown",
   "id": "6850c42a",
   "metadata": {},
   "source": [
    "### Question 7\n"
   ]
  },
  {
   "cell_type": "code",
   "execution_count": null,
   "id": "218e3414",
   "metadata": {},
   "outputs": [
    {
     "name": "stdout",
     "output_type": "stream",
     "text": [
      "0.2617349970291146\n"
     ]
    }
   ],
   "source": [
    "SSR = 885\n",
    "SSE = 1491\n",
    "SST = SSR + SSE\n",
    "\n",
    "n = 41\n",
    "k = 6\n",
    "Radj = 1 - (SSE / (n - 1 - k)) / (SST / (n - 1))\n",
    "print(Radj)\n",
    "\n",
    "\n",
    "\n",
    "\n"
   ]
  },
  {
   "cell_type": "markdown",
   "id": "06124b8d",
   "metadata": {},
   "source": [
    "### Question 8"
   ]
  },
  {
   "cell_type": "code",
   "execution_count": null,
   "id": "bf1407d4",
   "metadata": {},
   "outputs": [],
   "source": []
  }
 ],
 "metadata": {
  "kernelspec": {
   "display_name": "Python 3",
   "language": "python",
   "name": "python3"
  },
  "language_info": {
   "codemirror_mode": {
    "name": "ipython",
    "version": 3
   },
   "file_extension": ".py",
   "mimetype": "text/x-python",
   "name": "python",
   "nbconvert_exporter": "python",
   "pygments_lexer": "ipython3",
   "version": "3.13.2"
  }
 },
 "nbformat": 4,
 "nbformat_minor": 5
}
