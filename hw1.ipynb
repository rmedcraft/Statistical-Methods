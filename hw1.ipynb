{
 "cells": [
  {
   "cell_type": "code",
   "execution_count": null,
   "metadata": {},
   "outputs": [],
   "source": [
    "import pandas as pd\n",
    "dataArr = [14, 14, 9, 24, 18, 15, 13]\n",
    "data2 = pd.DataFrame(dataArr)"
   ]
  },
  {
   "cell_type": "code",
   "execution_count": null,
   "metadata": {},
   "outputs": [
    {
     "name": "stdout",
     "output_type": "stream",
     "text": [
      "Mean: 0    15.285714\n",
      "dtype: float64\n",
      "Median: 0    14.0\n",
      "dtype: float64\n",
      "Variance: 0    21.904762\n",
      "dtype: float64\n",
      "Standard Deviation: 0    4.680252\n",
      "dtype: float64\n",
      "Range: 0    15\n",
      "dtype: int64\n"
     ]
    }
   ],
   "source": [
    "print(\"Mean:\", data2.mean())\n",
    "print(\"Median:\", data2.median())\n",
    "print(\"Variance:\", data2.var())\n",
    "print(\"Standard Deviation:\", data2.std())\n",
    "print(\"Range:\",data2.max() - data2.min())"
   ]
  },
  {
   "cell_type": "code",
   "execution_count": 6,
   "metadata": {},
   "outputs": [],
   "source": [
    "data3 = pd.DataFrame([12.63, 11.91, 13.04, 12.47, 13.25, 12.69])"
   ]
  },
  {
   "cell_type": "code",
   "execution_count": null,
   "metadata": {},
   "outputs": [
    {
     "ename": "SyntaxError",
     "evalue": "invalid syntax. Perhaps you forgot a comma? (1519216727.py, line 1)",
     "output_type": "error",
     "traceback": [
      "\u001b[1;36m  Cell \u001b[1;32mIn[7], line 1\u001b[1;36m\u001b[0m\n\u001b[1;33m    print(\"Mean:\", (int)data3.mean())\u001b[0m\n\u001b[1;37m                    ^\u001b[0m\n\u001b[1;31mSyntaxError\u001b[0m\u001b[1;31m:\u001b[0m invalid syntax. Perhaps you forgot a comma?\n"
     ]
    }
   ],
   "source": [
    "print(\"Mean:\", data3.mean())\n",
    "print(\"Standard dev:\", data3.std())\n"
   ]
  },
  {
   "cell_type": "code",
   "execution_count": null,
   "metadata": {},
   "outputs": [],
   "source": []
  }
 ],
 "metadata": {
  "kernelspec": {
   "display_name": "Python 3",
   "language": "python",
   "name": "python3"
  },
  "language_info": {
   "codemirror_mode": {
    "name": "ipython",
    "version": 3
   },
   "file_extension": ".py",
   "mimetype": "text/x-python",
   "name": "python",
   "nbconvert_exporter": "python",
   "pygments_lexer": "ipython3",
   "version": "3.11.9"
  }
 },
 "nbformat": 4,
 "nbformat_minor": 2
}
