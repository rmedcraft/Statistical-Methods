{
 "cells": [
  {
   "cell_type": "code",
   "execution_count": 2,
   "metadata": {},
   "outputs": [],
   "source": [
    "import pandas as pd\n",
    "dataArr = [14, 14, 9, 24, 18, 15, 13]\n",
    "data2 = pd.DataFrame(dataArr)"
   ]
  },
  {
   "cell_type": "code",
   "execution_count": 3,
   "metadata": {},
   "outputs": [
    {
     "name": "stdout",
     "output_type": "stream",
     "text": [
      "Mean: 0    15.285714\n",
      "dtype: float64\n",
      "Median: 0    14.0\n",
      "dtype: float64\n",
      "Variance: 0    21.904762\n",
      "dtype: float64\n",
      "Standard Deviation: 0    4.680252\n",
      "dtype: float64\n",
      "Range: 0    15\n",
      "dtype: int64\n"
     ]
    }
   ],
   "source": [
    "print(\"Mean:\", data2.mean())\n",
    "print(\"Median:\", data2.median())\n",
    "print(\"Variance:\", data2.var())\n",
    "print(\"Standard Deviation:\", data2.std())\n",
    "print(\"Range:\",data2.max() - data2.min())"
   ]
  },
  {
   "cell_type": "code",
   "execution_count": 9,
   "metadata": {},
   "outputs": [
    {
     "name": "stdout",
     "output_type": "stream",
     "text": [
      "[[12.63]\n",
      " [11.91]\n",
      " [13.04]\n",
      " [12.47]\n",
      " [13.25]\n",
      " [12.69]]\n"
     ]
    }
   ],
   "source": [
    "import numpy as np\n",
    "\n",
    "data3 = pd.DataFrame([12.63, 11.91, 13.04, 12.47, 13.25, 12.69])\n",
    "data3np = np.array(data3)\n",
    "print(data3np)"
   ]
  },
  {
   "cell_type": "code",
   "execution_count": 15,
   "metadata": {},
   "outputs": [
    {
     "name": "stdout",
     "output_type": "stream",
     "text": [
      "Mean: 0    12.665\n",
      "dtype: float64\n",
      "Standard dev: 0    0.467493\n",
      "dtype: float64\n",
      "0.4674933154602318\n",
      "Test Statistic: 0   -1.755274\n",
      "dtype: float64\n",
      "Critical value: -2.0150483733330233\n"
     ]
    }
   ],
   "source": [
    "import math\n",
    "from scipy.stats import t\n",
    "mean = data3.mean()\n",
    "std = data3.std()\n",
    "assumedMean = 13\n",
    "print(\"Mean:\", mean)\n",
    "print(\"Standard dev:\", std)\n",
    "print(np.std(data3np, ddof=1))\n",
    "\n",
    "test = (mean - assumedMean) / (std / math.sqrt(len(data3)))\n",
    "\n",
    "print(\"Test Statistic:\", test)\n",
    "\n",
    "crtVal = t.ppf(0.95, df=5) # then it becomes negaitve\n",
    "print(\"Critical value:\", crtVal * -1)\n",
    "# A t value fails if its absolute value is smaller than the critical value\n"
   ]
  },
  {
   "cell_type": "code",
   "execution_count": 2,
   "metadata": {},
   "outputs": [
    {
     "name": "stdout",
     "output_type": "stream",
     "text": [
      "0.3145749061513079\n",
      "3.17889310445827\n"
     ]
    }
   ],
   "source": [
    "# Question 5\n",
    "# Critical value of F distributuin\n",
    "from scipy.stats import f\n",
    "print(f.ppf(0.05, dfn=9, dfd=9))\n",
    "print(f.ppf(0.95, dfn=9, dfd=9))"
   ]
  },
  {
   "cell_type": "code",
   "execution_count": null,
   "metadata": {},
   "outputs": [],
   "source": []
  }
 ],
 "metadata": {
  "kernelspec": {
   "display_name": "Python 3",
   "language": "python",
   "name": "python3"
  },
  "language_info": {
   "codemirror_mode": {
    "name": "ipython",
    "version": 3
   },
   "file_extension": ".py",
   "mimetype": "text/x-python",
   "name": "python",
   "nbconvert_exporter": "python",
   "pygments_lexer": "ipython3",
   "version": "3.13.2"
  }
 },
 "nbformat": 4,
 "nbformat_minor": 2
}
