{
 "cells": [
  {
   "cell_type": "markdown",
   "metadata": {},
   "source": [
    "### Question: Interaction and CV in Multiple Linear Regression Models\n",
    "Consider the `Boston` data set in package `MASS`. This data frame contains the following columns:\n",
    "\n",
    "- 'crim'  per capita crime rate by town.\n",
    "- 'zn' proportion of residential land zoned for lots over 25,000 sq.ft.\n",
    "- 'indus' proportion of non-retail business acres per town.\n",
    "- 'chas' Charles River dummy variable (= 1 if tract bounds river; 0 otherwise).\n",
    "- 'nox' nitrogen oxides concentration (parts per 10 million).\n",
    "- 'rm' average number of rooms per dwelling.\n",
    "- 'age' proportion of owner-occupied units built prior to 1940.\n",
    "- 'dis' weighted mean of distances to five Boston employment centres.\n",
    "- 'rad' index of accessibility to radial highways.\n",
    "- 'tax' full-value property-tax rate per $10,000.\n",
    "- 'ptratio' pupil-teacher ratio by town.\n",
    "- 'black' 1000$(Bk-0.63)^2$ where Bk is the proportion of blacks by town.\n",
    "- 'lstat' lower status of the population (percent).\n",
    "- 'medv' median value of owner-occupied homes in $1000s.\n"
   ]
  },
  {
   "cell_type": "markdown",
   "metadata": {},
   "source": [
    "(1) Use 'medv' as the response variable, fit the  multiple linear regression model $E(medv)=\\beta_0+\\beta_1 lstat+ \\beta_2 rm$.  Are all variables significant?\n",
    "\n",
    "**Ans:** "
   ]
  },
  {
   "cell_type": "code",
   "execution_count": 1,
   "metadata": {},
   "outputs": [
    {
     "name": "stdout",
     "output_type": "stream",
     "text": [
      "Index(['crim', 'zn', 'indus', 'chas', 'nox', 'rm', 'age', 'dis', 'rad', 'tax',\n",
      "       'ptratio', 'black', 'lstat', 'medv'],\n",
      "      dtype='object')\n"
     ]
    }
   ],
   "source": [
    "import statsmodels.api as sm\n",
    "Boston = sm.datasets.get_rdataset(\"Boston\", \"MASS\").data\n",
    "print(Boston.columns)"
   ]
  },
  {
   "cell_type": "code",
   "execution_count": 3,
   "metadata": {},
   "outputs": [
    {
     "name": "stdout",
     "output_type": "stream",
     "text": [
      "                            OLS Regression Results                            \n",
      "==============================================================================\n",
      "Dep. Variable:                   medv   R-squared:                       0.639\n",
      "Model:                            OLS   Adj. R-squared:                  0.637\n",
      "Method:                 Least Squares   F-statistic:                     444.3\n",
      "Date:                Mon, 21 Apr 2025   Prob (F-statistic):          7.01e-112\n",
      "Time:                        09:03:23   Log-Likelihood:                -1582.8\n",
      "No. Observations:                 506   AIC:                             3172.\n",
      "Df Residuals:                     503   BIC:                             3184.\n",
      "Df Model:                           2                                         \n",
      "Covariance Type:            nonrobust                                         \n",
      "==============================================================================\n",
      "                 coef    std err          t      P>|t|      [0.025      0.975]\n",
      "------------------------------------------------------------------------------\n",
      "Intercept     -1.3583      3.173     -0.428      0.669      -7.592       4.875\n",
      "lstat         -0.6424      0.044    -14.689      0.000      -0.728      -0.556\n",
      "rm             5.0948      0.444     11.463      0.000       4.222       5.968\n",
      "==============================================================================\n",
      "Omnibus:                      145.712   Durbin-Watson:                   0.834\n",
      "Prob(Omnibus):                  0.000   Jarque-Bera (JB):              457.690\n",
      "Skew:                           1.343   Prob(JB):                    4.11e-100\n",
      "Kurtosis:                       6.807   Cond. No.                         202.\n",
      "==============================================================================\n",
      "\n",
      "Notes:\n",
      "[1] Standard Errors assume that the covariance matrix of the errors is correctly specified.\n"
     ]
    }
   ],
   "source": [
    "from statsmodels.formula.api import ols \n",
    "model = ols(\"medv ~ lstat + rm\", data=Boston).fit()\n",
    "print(model.summary())"
   ]
  },
  {
   "cell_type": "markdown",
   "metadata": {},
   "source": [
    "lstat and rm are both significant since their p-values are less than 0.05"
   ]
  },
  {
   "cell_type": "code",
   "execution_count": null,
   "metadata": {},
   "outputs": [],
   "source": []
  },
  {
   "cell_type": "markdown",
   "metadata": {},
   "source": [
    "(2) Add the interaction term $lstat*rm$ to the model in (1), fit the model and interpret the interaction effect if `lstat` is fixed.\n",
    "\n",
    "**Ans**: "
   ]
  },
  {
   "cell_type": "code",
   "execution_count": 7,
   "metadata": {},
   "outputs": [
    {
     "name": "stdout",
     "output_type": "stream",
     "text": [
      "                            OLS Regression Results                            \n",
      "==============================================================================\n",
      "Dep. Variable:                   medv   R-squared:                       0.740\n",
      "Model:                            OLS   Adj. R-squared:                  0.739\n",
      "Method:                 Least Squares   F-statistic:                     476.9\n",
      "Date:                Mon, 21 Apr 2025   Prob (F-statistic):          1.75e-146\n",
      "Time:                        09:24:04   Log-Likelihood:                -1499.2\n",
      "No. Observations:                 506   AIC:                             3006.\n",
      "Df Residuals:                     502   BIC:                             3023.\n",
      "Df Model:                           3                                         \n",
      "Covariance Type:            nonrobust                                         \n",
      "==============================================================================\n",
      "                 coef    std err          t      P>|t|      [0.025      0.975]\n",
      "------------------------------------------------------------------------------\n",
      "Intercept    -29.1245      3.342     -8.713      0.000     -35.692     -22.558\n",
      "lstat          2.1940      0.206     10.666      0.000       1.790       2.598\n",
      "rm             9.7013      0.500     19.393      0.000       8.718      10.684\n",
      "lstat:rm      -0.4849      0.035    -14.018      0.000      -0.553      -0.417\n",
      "==============================================================================\n",
      "Omnibus:                      223.968   Durbin-Watson:                   0.971\n",
      "Prob(Omnibus):                  0.000   Jarque-Bera (JB):             2182.462\n",
      "Skew:                           1.666   Prob(JB):                         0.00\n",
      "Kurtosis:                      12.613   Cond. No.                     1.41e+03\n",
      "==============================================================================\n",
      "\n",
      "Notes:\n",
      "[1] Standard Errors assume that the covariance matrix of the errors is correctly specified.\n",
      "[2] The condition number is large, 1.41e+03. This might indicate that there are\n",
      "strong multicollinearity or other numerical problems.\n"
     ]
    }
   ],
   "source": [
    "model2 = ols(\"medv ~ lstat + rm + lstat*rm\", data=Boston).fit()\n",
    "print(model2.summary())"
   ]
  },
  {
   "cell_type": "markdown",
   "metadata": {},
   "source": [
    "In higher lstat areas, the effect of higher rm is lower"
   ]
  },
  {
   "cell_type": "markdown",
   "metadata": {},
   "source": [
    "(3) Consider the interaction terms $lstat*rm, lstat*ptratio, rm*ptratio, lstat*rm*ptratio$, which terms can be added to the model $E(medv)=\\beta_0+\\beta_1 lstat+ \\beta_2 rm + \\beta_3 ptratio$ at significance level 0.01?\n",
    "\n",
    "**Ans**: "
   ]
  },
  {
   "cell_type": "code",
   "execution_count": 8,
   "metadata": {},
   "outputs": [
    {
     "name": "stdout",
     "output_type": "stream",
     "text": [
      "                            OLS Regression Results                            \n",
      "==============================================================================\n",
      "Dep. Variable:                   medv   R-squared:                       0.791\n",
      "Model:                            OLS   Adj. R-squared:                  0.788\n",
      "Method:                 Least Squares   F-statistic:                     268.8\n",
      "Date:                Mon, 21 Apr 2025   Prob (F-statistic):          1.23e-164\n",
      "Time:                        09:26:23   Log-Likelihood:                -1444.5\n",
      "No. Observations:                 506   AIC:                             2905.\n",
      "Df Residuals:                     498   BIC:                             2939.\n",
      "Df Model:                           7                                         \n",
      "Covariance Type:            nonrobust                                         \n",
      "====================================================================================\n",
      "                       coef    std err          t      P>|t|      [0.025      0.975]\n",
      "------------------------------------------------------------------------------------\n",
      "Intercept         -218.1978     24.402     -8.942      0.000    -266.142    -170.253\n",
      "lstat                8.4720      1.911      4.434      0.000       4.718      12.226\n",
      "rm                  38.1422      3.591     10.620      0.000      31.086      45.198\n",
      "lstat:rm            -1.2635      0.328     -3.849      0.000      -1.909      -0.619\n",
      "ptratio             10.8564      1.339      8.108      0.000       8.226      13.487\n",
      "lstat:ptratio       -0.3686      0.099     -3.711      0.000      -0.564      -0.173\n",
      "rm:ptratio          -1.6517      0.200     -8.278      0.000      -2.044      -1.260\n",
      "lstat:rm:ptratio     0.0478      0.017      2.804      0.005       0.014       0.081\n",
      "==============================================================================\n",
      "Omnibus:                      271.522   Durbin-Watson:                   0.943\n",
      "Prob(Omnibus):                  0.000   Jarque-Bera (JB):             2921.458\n",
      "Skew:                           2.104   Prob(JB):                         0.00\n",
      "Kurtosis:                      13.994   Cond. No.                     2.20e+05\n",
      "==============================================================================\n",
      "\n",
      "Notes:\n",
      "[1] Standard Errors assume that the covariance matrix of the errors is correctly specified.\n",
      "[2] The condition number is large, 2.2e+05. This might indicate that there are\n",
      "strong multicollinearity or other numerical problems.\n"
     ]
    }
   ],
   "source": [
    "model3 = ols(\"medv ~ lstat * rm * ptratio\", data=Boston).fit()\n",
    "print(model3.summary())"
   ]
  },
  {
   "cell_type": "markdown",
   "metadata": {},
   "source": [
    "All of the interaction terms have P-values lower than 0.01, so they are all significant at the 1% level"
   ]
  },
  {
   "cell_type": "markdown",
   "metadata": {},
   "source": [
    "(4) Compare the following three models without interaction terms,  $E(medv)=\\beta_0+\\beta_1 lstat+ \\beta_2 rm + \\beta_3 ptratio$, $E(medv)=\\beta_0+\\beta_1 lstat+ \\beta_2 rm + \\beta_3 ptratio + \\beta_4 dis$ and $E(medv)=\\beta_0+\\beta_1 lstat+ \\beta_2 rm + \\beta_3 ptratio + \\beta_4 dis + \\beta_5 nox$.  Use K-fold cross-validation (with k=10) to check which model is the best model for prediction.\n",
    "\n",
    "**ANS:**  "
   ]
  },
  {
   "cell_type": "code",
   "execution_count": 13,
   "metadata": {},
   "outputs": [
    {
     "name": "stdout",
     "output_type": "stream",
     "text": [
      "Model A: Average MSE = 27.733\n",
      "Model B: Average MSE = 26.772\n",
      "Model C: Average MSE = 25.284\n"
     ]
    }
   ],
   "source": [
    "from sklearn.model_selection import KFold, cross_val_score\n",
    "from sklearn.linear_model import LinearRegression\n",
    "from sklearn.metrics import mean_squared_error, make_scorer\n",
    "import numpy as np\n",
    "\n",
    "# Define features for each model\n",
    "features_A = ['lstat', 'rm', 'ptratio']\n",
    "features_B = features_A + ['dis']\n",
    "features_C = features_B + ['nox']\n",
    "\n",
    "# Define dictionary of models\n",
    "models = {\n",
    "    'Model A': features_A,\n",
    "    'Model B': features_B,\n",
    "    'Model C': features_C\n",
    "}\n",
    "\n",
    "# Set up cross-validation\n",
    "kf = KFold(n_splits=10, shuffle=True, random_state=42)\n",
    "mse_scorer = make_scorer(mean_squared_error)\n",
    "\n",
    "# Evaluate models\n",
    "results = {}\n",
    "\n",
    "for name, features in models.items():\n",
    "    X = Boston[features]\n",
    "    y = Boston['medv']\n",
    "    model = LinearRegression()\n",
    "    neg_mse_scores = cross_val_score(model, X, y, scoring='neg_mean_squared_error', cv=kf)\n",
    "    avg_mse = -np.mean(neg_mse_scores)\n",
    "    results[name] = avg_mse\n",
    "\n",
    "# Print results\n",
    "for name, mse in results.items():\n",
    "    print(f\"{name}: Average MSE = {mse:.3f}\")\n"
   ]
  },
  {
   "cell_type": "markdown",
   "metadata": {},
   "source": [
    "Model C is the best for prediction"
   ]
  }
 ],
 "metadata": {
  "kernelspec": {
   "display_name": "Python 3",
   "language": "python",
   "name": "python3"
  },
  "language_info": {
   "codemirror_mode": {
    "name": "ipython",
    "version": 3
   },
   "file_extension": ".py",
   "mimetype": "text/x-python",
   "name": "python",
   "nbconvert_exporter": "python",
   "pygments_lexer": "ipython3",
   "version": "3.13.2"
  }
 },
 "nbformat": 4,
 "nbformat_minor": 2
}
