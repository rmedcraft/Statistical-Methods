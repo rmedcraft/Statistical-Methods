{
 "cells": [
  {
   "attachments": {},
   "cell_type": "markdown",
   "metadata": {},
   "source": [
    "# Project 3\n"
   ]
  },
  {
   "attachments": {},
   "cell_type": "markdown",
   "metadata": {},
   "source": [
    "### Question 1: Simulation study of sampling distribution of sample proportions\n",
    "\n",
    "Suppose that two **fair dice** are rolled independently an infinite number of times which is the infinite population.  Let X1 be the result rolled by the first die and X2 be the result rolled by the second die.  Then the discrete sample space for the pair of variables (X1, X2) is given by \n",
    "$$\n",
    "S = \\{(1,1), (1,2), …, (1,6), (2,1),  …, (6,6)\\}.\n",
    "$$\n",
    "Note that there are 36 simple events in the sample space.  Consider the random variable Y=X1 $\\times$ X2. Let's use a simulation study to check the distribution of the sample mean $\\bar{Y}$  for sample size n=5 and n=35, respectively.  Use **1000** samples.\n",
    "\n",
    "When you conduct the simulation study, each time you use Python generate random numbers for X1 or X2 and calculate the sample mean of the $n$ products.  \tFor example, suppose one sample of size 5 is: (1,1), (1,5), (2,3), (3, 4), (6,2), then the sample mean for the variable Y is given by $(1*1+1*5+2*3+3*4+6*2)/5$ = 36/5 = 7.2. \n",
    "\n"
   ]
  },
  {
   "attachments": {},
   "cell_type": "markdown",
   "metadata": {},
   "source": [
    "(1) For the simulation study with sample size 5, i)\tFind the average of these 1000 sample means and ii) \tDraw a histogram of these 1000 sample means."
   ]
  },
  {
   "cell_type": "code",
   "execution_count": 5,
   "metadata": {},
   "outputs": [],
   "source": [
    "import random\n",
    "def diceRoll():\n",
    "    return random.randint(1, 6) * random.randint(1, 6)"
   ]
  },
  {
   "cell_type": "code",
   "execution_count": 8,
   "metadata": {},
   "outputs": [],
   "source": [
    "import pandas as pd\n",
    "import numpy as np\n",
    "df = pd.DataFrame(columns=[\"n=5\", \"n=35\"])\n",
    "\n",
    "for i in range(1000):\n",
    "    sum = 0\n",
    "    # n = 5\n",
    "    for j in range(5):\n",
    "        sum += diceRoll()\n",
    "    mean5 = sum / 5\n",
    "    # n = 35\n",
    "    \n",
    "    for j in range(35):\n",
    "        sum += diceRoll()\n",
    "    mean35 = sum / 35\n",
    "    df.loc[len(df)] = [mean5, mean35] # Adds a row at the end"
   ]
  },
  {
   "cell_type": "code",
   "execution_count": 15,
   "metadata": {},
   "outputs": [
    {
     "data": {
      "image/png": "[encoded data removed]",
      "text/plain": [
       "<Figure size 640x480 with 1 Axes>"
      ]
     },
     "metadata": {},
     "output_type": "display_data"
    }
   ],
   "source": [
    "import matplotlib.pyplot as plt\n",
    "plt.hist(df[\"n=5\"], width=1.5)\n",
    "plt.title(\"n = 5\")\n",
    "plt.xlabel(\"roll #1 x roll #2\")\n",
    "plt.ylabel(\"Quantity\")\n",
    "plt.show()"
   ]
  },
  {
   "attachments": {},
   "cell_type": "markdown",
   "metadata": {},
   "source": [
    "(2) For the simulation study with sample size 35, i)\tFind the average of these 1000 sample means and ii) \tDraw a histogram of these 1000 sample means."
   ]
  },
  {
   "cell_type": "code",
   "execution_count": 17,
   "metadata": {},
   "outputs": [
    {
     "data": {
      "image/png": "[encoded data removed]",
      "text/plain": [
       "<Figure size 640x480 with 1 Axes>"
      ]
     },
     "metadata": {},
     "output_type": "display_data"
    }
   ],
   "source": [
    "# code here\n",
    "\n",
    "plt.hist(df[\"n=35\"], width=1)\n",
    "plt.title(\"n = 35\")\n",
    "plt.xlabel(\"roll #1 x roll #2\")\n",
    "plt.ylabel(\"Quantity\")\n",
    "plt.show()\n"
   ]
  },
  {
   "attachments": {},
   "cell_type": "markdown",
   "metadata": {},
   "source": [
    "(3) Compare the two histograms obtained using samples of size 5 and 35, respectively.   How does the sample size affect the sampling distribution of $\\bar{Y}$?  "
   ]
  },
  {
   "cell_type": "markdown",
   "metadata": {},
   "source": [
    "**Ans:** Both seem to peak around 10-15, the max is lower and the min is higher for n=35"
   ]
  },
  {
   "cell_type": "markdown",
   "metadata": {},
   "source": [
    "### Question 2: Compare 2-sample t-test and Wilcoxon Rank-sum test.  \n",
    "Use the following simulated 2-sample data x1 (with $\\mu_1=10$) and x2 (with $\\mu_2=14$) to test $H_0: \\mu_1= \\mu_2$  versus $H_1: \\mu_1 \\neq \\mu_2$ using 2-sample t-test and Wilcoxon Rank-sum test. Which test produces smaller p-value?"
   ]
  },
  {
   "cell_type": "markdown",
   "metadata": {},
   "source": [
    "**Ans:**"
   ]
  },
  {
   "cell_type": "code",
   "execution_count": null,
   "metadata": {},
   "outputs": [
    {
     "ename": "ModuleNotFoundError",
     "evalue": "No module named 'stats'",
     "output_type": "error",
     "traceback": [
      "\u001b[1;31m---------------------------------------------------------------------------\u001b[0m",
      "\u001b[1;31mModuleNotFoundError\u001b[0m                       Traceback (most recent call last)",
      "Cell \u001b[1;32mIn[18], line 3\u001b[0m\n\u001b[0;32m      1\u001b[0m \u001b[38;5;28;01mimport\u001b[39;00m\u001b[38;5;250m \u001b[39m\u001b[38;5;21;01mnumpy\u001b[39;00m\u001b[38;5;250m \u001b[39m\u001b[38;5;28;01mas\u001b[39;00m\u001b[38;5;250m \u001b[39m\u001b[38;5;21;01mnp\u001b[39;00m\n\u001b[0;32m      2\u001b[0m \u001b[38;5;28;01mfrom\u001b[39;00m\u001b[38;5;250m \u001b[39m\u001b[38;5;21;01mscipy\u001b[39;00m\u001b[38;5;250m \u001b[39m\u001b[38;5;28;01mimport\u001b[39;00m stats\n\u001b[1;32m----> 3\u001b[0m \u001b[38;5;28;01mfrom\u001b[39;00m\u001b[38;5;250m \u001b[39m\u001b[38;5;21;01mstats\u001b[39;00m\u001b[38;5;250m \u001b[39m\u001b[38;5;28;01mimport\u001b[39;00m t\n\u001b[0;32m      4\u001b[0m np\u001b[38;5;241m.\u001b[39mrandom\u001b[38;5;241m.\u001b[39mseed(\u001b[38;5;241m1\u001b[39m)\n\u001b[0;32m      5\u001b[0m x1\u001b[38;5;241m=\u001b[39mnp\u001b[38;5;241m.\u001b[39mround(np\u001b[38;5;241m.\u001b[39mrandom\u001b[38;5;241m.\u001b[39mrandn(\u001b[38;5;241m20\u001b[39m)\u001b[38;5;241m*\u001b[39m\u001b[38;5;241m2\u001b[39m\u001b[38;5;241m+\u001b[39m\u001b[38;5;241m10\u001b[39m)\n",
      "\u001b[1;31mModuleNotFoundError\u001b[0m: No module named 'stats'"
     ]
    }
   ],
   "source": [
    "import numpy as np\n",
    "from scipy import stats\n",
    "np.random.seed(1)\n",
    "x1=np.round(np.random.randn(20)*2+10)\n",
    "x2=np.round(np.random.randn(20)*10+14)"
   ]
  },
  {
   "cell_type": "code",
   "execution_count": null,
   "metadata": {},
   "outputs": [],
   "source": []
  }
 ],
 "metadata": {
  "kernelspec": {
   "display_name": "Python 3",
   "language": "python",
   "name": "python3"
  },
  "language_info": {
   "codemirror_mode": {
    "name": "ipython",
    "version": 3
   },
   "file_extension": ".py",
   "mimetype": "text/x-python",
   "name": "python",
   "nbconvert_exporter": "python",
   "pygments_lexer": "ipython3",
   "version": "3.13.1"
  },
  "orig_nbformat": 4,
  "vscode": {
   "interpreter": {
    "hash": "139f39c35911530f58a71008b0639ee4976ca5534c75a5f8e1d0d362af752765"
   }
  }
 },
 "nbformat": 4,
 "nbformat_minor": 2
}
