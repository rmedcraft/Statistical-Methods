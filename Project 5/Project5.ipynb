{
 "cells": [
  {
   "cell_type": "markdown",
   "metadata": {},
   "source": [
    "### Question 1 (SLR):  Consider the `marketing` data set (in R package `datarium` ). \n",
    "The data set `marketing` contains the impact of three advertising medias (youtube, facebook and newspaper) on sales. Data are the advertising budget in thousands of dollars along with the sales. The advertising experiment has been repeated 200 times with different budgets (in thousands of dollar) and the observed sales have been recorded. We want to predict future `sales` (response variable) on the basis of advertising budget spent on `youtube` (explanatory variable).\n"
   ]
  },
  {
   "cell_type": "code",
   "execution_count": 1,
   "metadata": {},
   "outputs": [],
   "source": [
    "import pandas as pd\n",
    "import matplotlib.pyplot as plt\n",
    "import seaborn as sns\n",
    "marketing=pd.read_csv(\"marketing.csv\")"
   ]
  },
  {
   "cell_type": "markdown",
   "metadata": {},
   "source": [
    "(1) Create a scatter plot displaying the sales units versus youtube advertising budget."
   ]
  },
  {
   "cell_type": "code",
   "execution_count": null,
   "metadata": {},
   "outputs": [],
   "source": []
  },
  {
   "cell_type": "markdown",
   "metadata": {},
   "source": [
    "(2) It seems there is a linear relationship between the two variables from (1). Create a scatter plot displaying the two variables with a fitted regression line on it."
   ]
  },
  {
   "cell_type": "code",
   "execution_count": null,
   "metadata": {},
   "outputs": [],
   "source": []
  },
  {
   "cell_type": "markdown",
   "metadata": {},
   "source": [
    "(3) Fit the simple linear regression model. Is the model useful at significance level 0.01? (Hint: the model is useful means $H_0: \\beta_1=0$ is rejected).\n",
    "**ANS:** "
   ]
  },
  {
   "cell_type": "code",
   "execution_count": null,
   "metadata": {},
   "outputs": [],
   "source": []
  },
  {
   "cell_type": "markdown",
   "metadata": {},
   "source": [
    "(4)  Find a 99% confidence interval of $\\beta_1$. \\\n",
    "**ANS:** "
   ]
  },
  {
   "cell_type": "code",
   "execution_count": null,
   "metadata": {},
   "outputs": [],
   "source": []
  },
  {
   "cell_type": "markdown",
   "metadata": {},
   "source": [
    "(5) Obtain the ANOVA table for the model."
   ]
  },
  {
   "cell_type": "code",
   "execution_count": null,
   "metadata": {},
   "outputs": [],
   "source": []
  },
  {
   "cell_type": "markdown",
   "metadata": {},
   "source": [
    "(6) Find the value of the Coefficient of Determination.\\\n",
    "**ANS:** "
   ]
  },
  {
   "cell_type": "code",
   "execution_count": null,
   "metadata": {},
   "outputs": [],
   "source": []
  },
  {
   "cell_type": "markdown",
   "metadata": {},
   "source": [
    "(7) The company plans to spend 310 (in thousands of dollar) on youtube advertising, what is the expected sales?  Find a 99% confidence interval of the 'true' average sales and a 99% prediction confidence interval of the 'true' sales. \\\n",
    "\n",
    "**ANS:**"
   ]
  },
  {
   "cell_type": "code",
   "execution_count": null,
   "metadata": {},
   "outputs": [],
   "source": []
  },
  {
   "cell_type": "markdown",
   "metadata": {},
   "source": [
    "#### Question 2: Multiple Linear Regression Models\n",
    "Consider the Auto MPG data set (http://archive.ics.uci.edu/ml/datasets/auto%20mpg). Let the variable `mpg` be the response variable.  For description of the data set, please go to https://archive.ics.uci.edu/ml/datasets/auto+mpg.\n"
   ]
  },
  {
   "cell_type": "code",
   "execution_count": 1,
   "metadata": {},
   "outputs": [],
   "source": [
    "import pandas as pd\n",
    "columns=['mpg','cylinders','displacement','horsepower','weight','acceleration','model_year','origin','car_name']\n",
    "data=pd.read_table(\"http://archive.ics.uci.edu/ml/machine-learning-databases/auto-mpg/auto-mpg.data\", sep='\\s+', header=None, names=columns)\n"
   ]
  },
  {
   "cell_type": "markdown",
   "metadata": {},
   "source": [
    "(1) Clean the data by removing all missing values."
   ]
  },
  {
   "cell_type": "code",
   "execution_count": null,
   "metadata": {},
   "outputs": [],
   "source": []
  },
  {
   "cell_type": "markdown",
   "metadata": {},
   "source": [
    "(2) Use Scatterplot Matrix to check the relationship among the first five numerical variables: 'mpg','displacement','horsepower','weight','acceleration'."
   ]
  },
  {
   "cell_type": "code",
   "execution_count": null,
   "metadata": {},
   "outputs": [],
   "source": []
  },
  {
   "cell_type": "markdown",
   "metadata": {},
   "source": [
    "(3) Fit a MLR model with covariates displacement, horsepower, weight, and acceleration.   Is the model as shown by the F-test useful at significance level 0.01?\n",
    "\n",
    "**Ans**:  "
   ]
  },
  {
   "cell_type": "code",
   "execution_count": null,
   "metadata": {},
   "outputs": [],
   "source": []
  },
  {
   "cell_type": "markdown",
   "metadata": {},
   "source": [
    "(4) Do all variables contribute to the model significantly by their respective t-test?  Test the significance of the variables **jointly** if their individual t-test have large p-values.\n",
    "\n",
    "**Ans**:  "
   ]
  },
  {
   "cell_type": "markdown",
   "metadata": {},
   "source": [
    "(5) Remove the nonsignifcant variables and refit a MLR model with the remaining predictors in the model. Are all variables significant at significance level 0.01?.\n",
    "\n",
    "**Ans:** "
   ]
  },
  {
   "cell_type": "code",
   "execution_count": null,
   "metadata": {},
   "outputs": [],
   "source": []
  },
  {
   "cell_type": "markdown",
   "metadata": {},
   "source": [
    "(6) Add the categorical variable `cylinders` to the model in (5). What is the fitted regression equation for cars with 5 cylinders?\n",
    "\n",
    "**Ans:** "
   ]
  },
  {
   "cell_type": "code",
   "execution_count": null,
   "metadata": {},
   "outputs": [],
   "source": []
  }
 ],
 "metadata": {
  "kernelspec": {
   "display_name": "Python 3",
   "language": "python",
   "name": "python3"
  },
  "language_info": {
   "codemirror_mode": {
    "name": "ipython",
    "version": 3
   },
   "file_extension": ".py",
   "mimetype": "text/x-python",
   "name": "python",
   "nbconvert_exporter": "python",
   "pygments_lexer": "ipython3",
   "version": "3.11.4"
  }
 },
 "nbformat": 4,
 "nbformat_minor": 2
}
