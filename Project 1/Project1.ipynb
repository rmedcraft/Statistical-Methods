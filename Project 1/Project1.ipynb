{
 "cells": [
  {
   "attachments": {},
   "cell_type": "markdown",
   "metadata": {},
   "source": [
    "### Project 1"
   ]
  },
  {
   "attachments": {},
   "cell_type": "markdown",
   "metadata": {},
   "source": [
    "#### **Question 1**. Write a Python function which returns $x^2$ when $x<0$ and $-|x|$ when $x \\geq 0$."
   ]
  },
  {
   "cell_type": "code",
   "execution_count": 1,
   "metadata": {},
   "outputs": [],
   "source": [
    "def squareOrNeg(x):\n",
    "    return x * x if x < 0 else x * -1\n"
   ]
  },
  {
   "attachments": {},
   "cell_type": "markdown",
   "metadata": {},
   "source": [
    "#### **Question 2**.  Consider the House Rent Prediction Dataset <https://www.kaggle.com/datasets/iamsouravbanerjee/house-rent-prediction-dataset> which is downloaded already.  Answer the following questions and show your Python code."
   ]
  },
  {
   "attachments": {},
   "cell_type": "markdown",
   "metadata": {},
   "source": [
    "- (1) What are the dimensions (number of rows and columns) of the data? \\\n",
    "**Answer**:"
   ]
  },
  {
   "cell_type": "code",
   "execution_count": 2,
   "metadata": {},
   "outputs": [
    {
     "name": "stdout",
     "output_type": "stream",
     "text": [
      "(4746, 12)\n"
     ]
    }
   ],
   "source": [
    "import pandas as pd\n",
    "rent=pd.read_csv(\"House_Rent_Dataset.csv\",sep = ',', header=0)\n",
    "print(rent.shape)\n"
   ]
  },
  {
   "attachments": {},
   "cell_type": "markdown",
   "metadata": {},
   "source": [
    "- (2) Show the first 3 rows of the data set.\\"
   ]
  },
  {
   "cell_type": "code",
   "execution_count": 3,
   "metadata": {},
   "outputs": [
    {
     "data": {
      "text/html": [
       "<div>\n",
       "<style scoped>\n",
       "    .dataframe tbody tr th:only-of-type {\n",
       "        vertical-align: middle;\n",
       "    }\n",
       "\n",
       "    .dataframe tbody tr th {\n",
       "        vertical-align: top;\n",
       "    }\n",
       "\n",
       "    .dataframe thead th {\n",
       "        text-align: right;\n",
       "    }\n",
       "</style>\n",
       "<table border=\"1\" class=\"dataframe\">\n",
       "  <thead>\n",
       "    <tr style=\"text-align: right;\">\n",
       "      <th></th>\n",
       "      <th>Posted On</th>\n",
       "      <th>BHK</th>\n",
       "      <th>Rent</th>\n",
       "      <th>Size</th>\n",
       "      <th>Floor</th>\n",
       "      <th>Area Type</th>\n",
       "      <th>Area Locality</th>\n",
       "      <th>City</th>\n",
       "      <th>Furnishing Status</th>\n",
       "      <th>Tenant Preferred</th>\n",
       "      <th>Bathroom</th>\n",
       "      <th>Point of Contact</th>\n",
       "    </tr>\n",
       "  </thead>\n",
       "  <tbody>\n",
       "    <tr>\n",
       "      <th>0</th>\n",
       "      <td>2022-05-18</td>\n",
       "      <td>2</td>\n",
       "      <td>10000</td>\n",
       "      <td>1100</td>\n",
       "      <td>Ground out of 2</td>\n",
       "      <td>Super Area</td>\n",
       "      <td>Bandel</td>\n",
       "      <td>Kolkata</td>\n",
       "      <td>Unfurnished</td>\n",
       "      <td>Bachelors/Family</td>\n",
       "      <td>2</td>\n",
       "      <td>Contact Owner</td>\n",
       "    </tr>\n",
       "    <tr>\n",
       "      <th>1</th>\n",
       "      <td>2022-05-13</td>\n",
       "      <td>2</td>\n",
       "      <td>20000</td>\n",
       "      <td>800</td>\n",
       "      <td>1 out of 3</td>\n",
       "      <td>Super Area</td>\n",
       "      <td>Phool Bagan, Kankurgachi</td>\n",
       "      <td>Kolkata</td>\n",
       "      <td>Semi-Furnished</td>\n",
       "      <td>Bachelors/Family</td>\n",
       "      <td>1</td>\n",
       "      <td>Contact Owner</td>\n",
       "    </tr>\n",
       "    <tr>\n",
       "      <th>2</th>\n",
       "      <td>2022-05-16</td>\n",
       "      <td>2</td>\n",
       "      <td>17000</td>\n",
       "      <td>1000</td>\n",
       "      <td>1 out of 3</td>\n",
       "      <td>Super Area</td>\n",
       "      <td>Salt Lake City Sector 2</td>\n",
       "      <td>Kolkata</td>\n",
       "      <td>Semi-Furnished</td>\n",
       "      <td>Bachelors/Family</td>\n",
       "      <td>1</td>\n",
       "      <td>Contact Owner</td>\n",
       "    </tr>\n",
       "  </tbody>\n",
       "</table>\n",
       "</div>"
      ],
      "text/plain": [
       "    Posted On  BHK   Rent  Size            Floor   Area Type  \\\n",
       "0  2022-05-18    2  10000  1100  Ground out of 2  Super Area   \n",
       "1  2022-05-13    2  20000   800       1 out of 3  Super Area   \n",
       "2  2022-05-16    2  17000  1000       1 out of 3  Super Area   \n",
       "\n",
       "              Area Locality     City Furnishing Status  Tenant Preferred  \\\n",
       "0                    Bandel  Kolkata       Unfurnished  Bachelors/Family   \n",
       "1  Phool Bagan, Kankurgachi  Kolkata    Semi-Furnished  Bachelors/Family   \n",
       "2   Salt Lake City Sector 2  Kolkata    Semi-Furnished  Bachelors/Family   \n",
       "\n",
       "   Bathroom Point of Contact  \n",
       "0         2    Contact Owner  \n",
       "1         1    Contact Owner  \n",
       "2         1    Contact Owner  "
      ]
     },
     "execution_count": 3,
     "metadata": {},
     "output_type": "execute_result"
    }
   ],
   "source": [
    "rent.head(3)"
   ]
  },
  {
   "attachments": {},
   "cell_type": "markdown",
   "metadata": {},
   "source": [
    "- (3) Obtain the 5-number summary of the variables `BHK`, `Rent`, `Size` and `Bathroom`. \\"
   ]
  },
  {
   "cell_type": "code",
   "execution_count": 4,
   "metadata": {},
   "outputs": [
    {
     "data": {
      "text/html": [
       "<div>\n",
       "<style scoped>\n",
       "    .dataframe tbody tr th:only-of-type {\n",
       "        vertical-align: middle;\n",
       "    }\n",
       "\n",
       "    .dataframe tbody tr th {\n",
       "        vertical-align: top;\n",
       "    }\n",
       "\n",
       "    .dataframe thead th {\n",
       "        text-align: right;\n",
       "    }\n",
       "</style>\n",
       "<table border=\"1\" class=\"dataframe\">\n",
       "  <thead>\n",
       "    <tr style=\"text-align: right;\">\n",
       "      <th></th>\n",
       "      <th>BHK</th>\n",
       "      <th>Rent</th>\n",
       "      <th>Size</th>\n",
       "      <th>Bathroom</th>\n",
       "    </tr>\n",
       "  </thead>\n",
       "  <tbody>\n",
       "    <tr>\n",
       "      <th>count</th>\n",
       "      <td>4746.000000</td>\n",
       "      <td>4.746000e+03</td>\n",
       "      <td>4746.000000</td>\n",
       "      <td>4746.000000</td>\n",
       "    </tr>\n",
       "    <tr>\n",
       "      <th>mean</th>\n",
       "      <td>2.083860</td>\n",
       "      <td>3.499345e+04</td>\n",
       "      <td>967.490729</td>\n",
       "      <td>1.965866</td>\n",
       "    </tr>\n",
       "    <tr>\n",
       "      <th>std</th>\n",
       "      <td>0.832256</td>\n",
       "      <td>7.810641e+04</td>\n",
       "      <td>634.202328</td>\n",
       "      <td>0.884532</td>\n",
       "    </tr>\n",
       "    <tr>\n",
       "      <th>min</th>\n",
       "      <td>1.000000</td>\n",
       "      <td>1.200000e+03</td>\n",
       "      <td>10.000000</td>\n",
       "      <td>1.000000</td>\n",
       "    </tr>\n",
       "    <tr>\n",
       "      <th>25%</th>\n",
       "      <td>2.000000</td>\n",
       "      <td>1.000000e+04</td>\n",
       "      <td>550.000000</td>\n",
       "      <td>1.000000</td>\n",
       "    </tr>\n",
       "    <tr>\n",
       "      <th>50%</th>\n",
       "      <td>2.000000</td>\n",
       "      <td>1.600000e+04</td>\n",
       "      <td>850.000000</td>\n",
       "      <td>2.000000</td>\n",
       "    </tr>\n",
       "    <tr>\n",
       "      <th>75%</th>\n",
       "      <td>3.000000</td>\n",
       "      <td>3.300000e+04</td>\n",
       "      <td>1200.000000</td>\n",
       "      <td>2.000000</td>\n",
       "    </tr>\n",
       "    <tr>\n",
       "      <th>max</th>\n",
       "      <td>6.000000</td>\n",
       "      <td>3.500000e+06</td>\n",
       "      <td>8000.000000</td>\n",
       "      <td>10.000000</td>\n",
       "    </tr>\n",
       "  </tbody>\n",
       "</table>\n",
       "</div>"
      ],
      "text/plain": [
       "               BHK          Rent         Size     Bathroom\n",
       "count  4746.000000  4.746000e+03  4746.000000  4746.000000\n",
       "mean      2.083860  3.499345e+04   967.490729     1.965866\n",
       "std       0.832256  7.810641e+04   634.202328     0.884532\n",
       "min       1.000000  1.200000e+03    10.000000     1.000000\n",
       "25%       2.000000  1.000000e+04   550.000000     1.000000\n",
       "50%       2.000000  1.600000e+04   850.000000     2.000000\n",
       "75%       3.000000  3.300000e+04  1200.000000     2.000000\n",
       "max       6.000000  3.500000e+06  8000.000000    10.000000"
      ]
     },
     "execution_count": 4,
     "metadata": {},
     "output_type": "execute_result"
    }
   ],
   "source": [
    "rent.describe()\n"
   ]
  },
  {
   "attachments": {},
   "cell_type": "markdown",
   "metadata": {},
   "source": [
    "- (4) Obtain the mean, median, and standard deviation of the variable `Rent`."
   ]
  },
  {
   "cell_type": "code",
   "execution_count": 5,
   "metadata": {},
   "outputs": [
    {
     "name": "stdout",
     "output_type": "stream",
     "text": [
      "Mean: 34993.45132743363\n",
      "Median: 16000.0\n",
      "Standard Deviation: 78106.4129373483\n"
     ]
    }
   ],
   "source": [
    "print(\"Mean:\", rent[\"Rent\"].mean())\n",
    "print(\"Median:\", rent[\"Rent\"].median())\n",
    "print(\"Standard Deviation:\", rent[\"Rent\"].std())"
   ]
  },
  {
   "attachments": {},
   "cell_type": "markdown",
   "metadata": {},
   "source": [
    "- (5) Construct a sub-data set without the two variables `Bathroom` and `Point of Contact`, and save the data as `rent1` .\\"
   ]
  },
  {
   "cell_type": "code",
   "execution_count": 6,
   "metadata": {},
   "outputs": [
    {
     "name": "stdout",
     "output_type": "stream",
     "text": [
      "<class 'pandas.core.frame.DataFrame'>\n",
      "RangeIndex: 4746 entries, 0 to 4745\n",
      "Data columns (total 10 columns):\n",
      " #   Column             Non-Null Count  Dtype \n",
      "---  ------             --------------  ----- \n",
      " 0   Posted On          4746 non-null   object\n",
      " 1   BHK                4746 non-null   int64 \n",
      " 2   Rent               4746 non-null   int64 \n",
      " 3   Size               4746 non-null   int64 \n",
      " 4   Floor              4746 non-null   object\n",
      " 5   Area Type          4746 non-null   object\n",
      " 6   Area Locality      4746 non-null   object\n",
      " 7   City               4746 non-null   object\n",
      " 8   Furnishing Status  4746 non-null   object\n",
      " 9   Tenant Preferred   4746 non-null   object\n",
      "dtypes: int64(3), object(7)\n",
      "memory usage: 370.9+ KB\n"
     ]
    }
   ],
   "source": [
    "rent1 = rent.copy()\n",
    "rent1.pop(\"Bathroom\")\n",
    "rent1.pop(\"Point of Contact\")\n",
    "rent1.info()"
   ]
  },
  {
   "attachments": {},
   "cell_type": "markdown",
   "metadata": {},
   "source": [
    "- (6) Split the data set into a training data set by the row numbers specified by `train` and test data. Save the two data sets as `rent_train` and `rent_test`, respectively."
   ]
  },
  {
   "cell_type": "code",
   "execution_count": 9,
   "metadata": {},
   "outputs": [
    {
     "name": "stdout",
     "output_type": "stream",
     "text": [
      "       Posted On  BHK   Rent  Size            Floor    Area Type  \\\n",
      "230   2022-06-17    1  18000   700  Ground out of 4   Super Area   \n",
      "4500  2022-05-20    2  10500  1050  Ground out of 3   Super Area   \n",
      "3277  2022-05-20    2  16000   800       1 out of 3   Super Area   \n",
      "4045  2022-07-10    1  13000   750       3 out of 3  Carpet Area   \n",
      "1561  2022-06-07    2   9500   530       1 out of 3  Carpet Area   \n",
      "\n",
      "                Area Locality       City Furnishing Status  Tenant Preferred  \\\n",
      "230   Salt Lake City Sector 3    Kolkata         Furnished  Bachelors/Family   \n",
      "4500             Hastinapuram  Hyderabad       Unfurnished  Bachelors/Family   \n",
      "3277               Adambakkam    Chennai    Semi-Furnished  Bachelors/Family   \n",
      "4045       Hyderaguda-Attapur  Hyderabad    Semi-Furnished            Family   \n",
      "1561          Byatarayanapura  Bangalore    Semi-Furnished  Bachelors/Family   \n",
      "\n",
      "      Bathroom Point of Contact  \n",
      "230          1    Contact Owner  \n",
      "4500         2    Contact Owner  \n",
      "3277         2    Contact Owner  \n",
      "4045         1    Contact Owner  \n",
      "1561         1    Contact Owner  \n",
      "       Posted On  BHK    Rent  Size            Floor    Area Type  \\\n",
      "4516  2022-05-12    2   16000  1650  Ground out of 3   Super Area   \n",
      "246   2022-05-06    2    7000   600       2 out of 2   Super Area   \n",
      "1469  2022-06-14    2   70000   810      4 out of 11  Carpet Area   \n",
      "701   2022-05-23    3  120000  1200     14 out of 18  Carpet Area   \n",
      "3185  2022-06-29    1    7500   600       1 out of 2   Super Area   \n",
      "\n",
      "                             Area Locality       City Furnishing Status  \\\n",
      "4516                                 Kapra  Hyderabad    Semi-Furnished   \n",
      "246                Park Circus, Ballygunge    Kolkata    Semi-Furnished   \n",
      "1469  Vintage Pearl Apartment, Bandra West     Mumbai         Furnished   \n",
      "701     Stellar Tower, Lokhandwala Complex     Mumbai         Furnished   \n",
      "3185    Perungalathur, Chennai Bypass Road    Chennai       Unfurnished   \n",
      "\n",
      "      Tenant Preferred  Bathroom Point of Contact  \n",
      "4516  Bachelors/Family         1    Contact Owner  \n",
      "246   Bachelors/Family         2    Contact Owner  \n",
      "1469  Bachelors/Family         2    Contact Agent  \n",
      "701             Family         3    Contact Agent  \n",
      "3185  Bachelors/Family         1    Contact Owner  \n",
      "    Posted On  BHK   Rent  Size            Floor    Area Type  \\\n",
      "0  2022-05-18    2  10000  1100  Ground out of 2   Super Area   \n",
      "1  2022-05-13    2  20000   800       1 out of 3   Super Area   \n",
      "2  2022-05-16    2  17000  1000       1 out of 3   Super Area   \n",
      "3  2022-07-04    2  10000   800       1 out of 2   Super Area   \n",
      "4  2022-05-09    2   7500   850       1 out of 2  Carpet Area   \n",
      "\n",
      "              Area Locality     City Furnishing Status  Tenant Preferred  \\\n",
      "0                    Bandel  Kolkata       Unfurnished  Bachelors/Family   \n",
      "1  Phool Bagan, Kankurgachi  Kolkata    Semi-Furnished  Bachelors/Family   \n",
      "2   Salt Lake City Sector 2  Kolkata    Semi-Furnished  Bachelors/Family   \n",
      "3               Dumdum Park  Kolkata       Unfurnished  Bachelors/Family   \n",
      "4             South Dum Dum  Kolkata       Unfurnished         Bachelors   \n",
      "\n",
      "   Bathroom Point of Contact  \n",
      "0         2    Contact Owner  \n",
      "1         1    Contact Owner  \n",
      "2         1    Contact Owner  \n",
      "3         1    Contact Owner  \n",
      "4         1    Contact Owner  \n"
     ]
    }
   ],
   "source": [
    "import numpy as np\n",
    "np.random.seed(1)\n",
    "n=rent.shape[0]\n",
    "m=int(n/2) if n%2==0 else int((n+1)/2)\n",
    "train=np.random.choice(range(n), m, replace=False)\n",
    "\n",
    "rent_train = rent.iloc[train]\n",
    "rent_test = rent.iloc[-train]\n",
    "print(rent_train.head())\n",
    "print(rent_test.head())\n",
    "print(rent.head())\n",
    "# rent_train.info()\n",
    "# rent_test.info()\n",
    "\n",
    "\n",
    "\n",
    "\n"
   ]
  },
  {
   "cell_type": "code",
   "execution_count": null,
   "metadata": {},
   "outputs": [],
   "source": []
  }
 ],
 "metadata": {
  "kernelspec": {
   "display_name": "Python 3",
   "language": "python",
   "name": "python3"
  },
  "language_info": {
   "codemirror_mode": {
    "name": "ipython",
    "version": 3
   },
   "file_extension": ".py",
   "mimetype": "text/x-python",
   "name": "python",
   "nbconvert_exporter": "python",
   "pygments_lexer": "ipython3",
   "version": "3.13.1"
  },
  "orig_nbformat": 4,
  "vscode": {
   "interpreter": {
    "hash": "139f39c35911530f58a71008b0639ee4976ca5534c75a5f8e1d0d362af752765"
   }
  }
 },
 "nbformat": 4,
 "nbformat_minor": 2
}
